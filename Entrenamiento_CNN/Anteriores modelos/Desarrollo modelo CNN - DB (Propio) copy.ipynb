{
 "cells": [
  {
   "cell_type": "markdown",
   "id": "0bfc0392",
   "metadata": {},
   "source": [
    "# Cargue y preentrenamiento de datos"
   ]
  },
  {
   "cell_type": "code",
   "execution_count": 2,
   "id": "195c262c",
   "metadata": {},
   "outputs": [],
   "source": [
    "import os\n",
    "from PIL import Image\n",
    "import numpy as np\n",
    "from sklearn.model_selection import train_test_split\n",
    "from imblearn.over_sampling import RandomOverSampler\n",
    "\n",
    "def cargar_imagenes_con_etiquetas(ruta_dataset):\n",
    "    imagenes = []\n",
    "    etiquetas = []\n",
    "    \n",
    "    for etiqueta in os.listdir(ruta_dataset):\n",
    "        carpeta = os.path.join(ruta_dataset, etiqueta)\n",
    "        if os.path.isdir(carpeta):\n",
    "            for archivo in os.listdir(carpeta):\n",
    "                if archivo.endswith('.tif') or archivo.endswith('.png') or archivo.endswith('.jpg'):\n",
    "                    img_path = os.path.join(carpeta, archivo)\n",
    "                    img = Image.open(img_path)\n",
    "                    imagenes.append(np.array(img)) \n",
    "                    etiquetas.append(etiqueta)\n",
    "    \n",
    "    return imagenes, etiquetas\n",
    "\n",
    "def obtener_tamanios_por_etiqueta(imagenes, etiquetas):\n",
    "    tamanios_por_etiqueta = {}\n",
    "    for img, etiqueta in zip(imagenes, etiquetas):\n",
    "        tamanio = img.shape[:2]\n",
    "        if etiqueta not in tamanios_por_etiqueta:\n",
    "            tamanios_por_etiqueta[etiqueta] = set()\n",
    "        tamanios_por_etiqueta[etiqueta].add(tamanio)\n",
    "    return tamanios_por_etiqueta\n",
    "\n",
    "def redimensionar_imagenes(imagenes, nuevo_tamanio):\n",
    "    imagenes_redimensionadas = []\n",
    "    for img in imagenes:\n",
    "        img_pil = Image.fromarray(img)\n",
    "        img_redimensionada = img_pil.resize(nuevo_tamanio, Image.ANTIALIAS)\n",
    "        imagenes_redimensionadas.append(np.array(img_redimensionada))\n",
    "    return imagenes_redimensionadas\n",
    "\n",
    "def verificar_tamanio(imagenes):\n",
    "    tamanio_referencia = None\n",
    "    for img in imagenes:\n",
    "        if tamanio_referencia is None:\n",
    "            tamanio_referencia = img.shape[:2]\n",
    "        else:\n",
    "            if img.shape[:2] != tamanio_referencia:\n",
    "                return False\n",
    "    return True\n",
    "\n",
    "def normalizar_imagenes(imagenes):\n",
    "    imagenes_array = np.array(imagenes)\n",
    "    imagenes_normalizadas = imagenes_array / 255.0\n",
    "    media = np.mean(imagenes_normalizadas, axis=(0, 1, 2))\n",
    "    imagenes_normalizadas -= media\n",
    "    return imagenes_normalizadas\n"
   ]
  },
  {
   "cell_type": "code",
   "execution_count": 3,
   "id": "4cce330e",
   "metadata": {},
   "outputs": [
    {
     "data": {
      "text/plain": [
       "{'Basket': {(255, 255), (256, 256)},\n",
       " 'Campo_Futbol': {(255, 255), (256, 256), (4080, 4080)},\n",
       " 'Cancha_Multiple': {(255, 255), (256, 256), (4080, 4080)},\n",
       " 'Parque': {(255, 255), (256, 256)},\n",
       " 'Tenis': {(255, 255), (256, 256)}}"
      ]
     },
     "execution_count": 3,
     "metadata": {},
     "output_type": "execute_result"
    }
   ],
   "source": [
    "# Cargar y procesar las imágenes\n",
    "ruta_dataset = 'C:/Users/nicol/Desktop/Universidad/Dataset_Utiles/Propio'\n",
    "imagenes, etiquetas = cargar_imagenes_con_etiquetas(ruta_dataset)\n",
    "\n",
    "# Obtener tamaños por etiqueta antes de redimensionar\n",
    "tamanios_por_etiqueta = obtener_tamanios_por_etiqueta(imagenes, etiquetas)\n",
    "\n",
    "tamanios_por_etiqueta\n"
   ]
  },
  {
   "cell_type": "code",
   "execution_count": 4,
   "id": "ea967de7",
   "metadata": {
    "scrolled": true
   },
   "outputs": [
    {
     "name": "stderr",
     "output_type": "stream",
     "text": [
      "C:\\Users\\nicol\\AppData\\Local\\Temp\\ipykernel_16864\\279961940.py:36: DeprecationWarning: ANTIALIAS is deprecated and will be removed in Pillow 10 (2023-07-01). Use Resampling.LANCZOS instead.\n",
      "  img_redimensionada = img_pil.resize(nuevo_tamanio, Image.ANTIALIAS)\n"
     ]
    },
    {
     "name": "stdout",
     "output_type": "stream",
     "text": [
      "Todas las imágenes tienen el mismo tamaño.\n"
     ]
    }
   ],
   "source": [
    "nuevo_tamanio = (256, 256)\n",
    "imagenes_redimensionadas = redimensionar_imagenes(imagenes, nuevo_tamanio)\n",
    "\n",
    "if verificar_tamanio(imagenes_redimensionadas):\n",
    "    print(\"Todas las imágenes tienen el mismo tamaño.\")\n",
    "else:\n",
    "    print(\"Las imágenes tienen diferentes tamaños.\")\n",
    "    \n",
    "imagenes_normalizadas = normalizar_imagenes(imagenes_redimensionadas)"
   ]
  },
  {
   "cell_type": "code",
   "execution_count": 5,
   "id": "971982fe",
   "metadata": {},
   "outputs": [
    {
     "name": "stdout",
     "output_type": "stream",
     "text": [
      "Distribución de clases en el conjunto de entrenamiento antes del balanceo:\n",
      "{0: 284, 1: 285, 2: 271, 3: 260, 4: 264}\n"
     ]
    }
   ],
   "source": [
    "# Codificar las etiquetas\n",
    "codificacion = {'Basket': 0, 'Campo_Futbol': 1, 'Cancha_Multiple': 2, 'Parque': 3, 'Tenis': 4}\n",
    "etiquetas_codificadas = np.array([codificacion[etiqueta] for etiqueta in etiquetas])\n",
    "\n",
    "# Dividir los datos en conjuntos de entrenamiento y prueba\n",
    "X_train, X_test, y_train, y_test = train_test_split(imagenes_normalizadas, etiquetas_codificadas, test_size=0.2, random_state=42)\n",
    "\n",
    "# Aplanar las imágenes para el sobremuestreo\n",
    "n_samples, height, width, channels = X_train.shape\n",
    "X_train_2d = X_train.reshape((n_samples, -1))\n",
    "\n",
    "# Mostrar la distribución de clases antes del balanceo\n",
    "unique, counts = np.unique(y_train, return_counts=True)\n",
    "print(\"Distribución de clases en el conjunto de entrenamiento antes del balanceo:\")\n",
    "print(dict(zip(unique, counts)))\n"
   ]
  },
  {
   "cell_type": "code",
   "execution_count": 6,
   "id": "073a3d6f",
   "metadata": {},
   "outputs": [
    {
     "name": "stdout",
     "output_type": "stream",
     "text": [
      "Distribución de clases en el conjunto de entrenamiento después del balanceo:\n",
      "{0: 285, 1: 285, 2: 285, 3: 285, 4: 285}\n"
     ]
    }
   ],
   "source": [
    "# Aplicar sobremuestreo aleatorio\n",
    "ros = RandomOverSampler(random_state=42)\n",
    "X_train_res_2d, y_train_res = ros.fit_resample(X_train_2d, y_train)\n",
    "\n",
    "# Reconstruir las imágenes a su forma original\n",
    "X_train_res = X_train_res_2d.reshape((-1, height, width, channels))\n",
    "\n",
    "# Mostrar la distribución de clases después del balanceo\n",
    "unique_res, counts_res = np.unique(y_train_res, return_counts=True)\n",
    "print(\"Distribución de clases en el conjunto de entrenamiento después del balanceo:\")\n",
    "print(dict(zip(unique_res, counts_res)))\n"
   ]
  },
  {
   "cell_type": "code",
   "execution_count": 7,
   "id": "d924e712",
   "metadata": {},
   "outputs": [
    {
     "name": "stdout",
     "output_type": "stream",
     "text": [
      "Número de ejemplos de entrenamiento antes del balanceo: 1364\n",
      "Número de ejemplos de entrenamiento después del balanceo: 1425\n",
      "Número de ejemplos de prueba: 341\n"
     ]
    }
   ],
   "source": [
    "# Imprimir el tamaño de los conjuntos de entrenamiento y prueba\n",
    "print(\"Número de ejemplos de entrenamiento antes del balanceo:\", len(X_train))\n",
    "print(\"Número de ejemplos de entrenamiento después del balanceo:\", len(X_train_res))\n",
    "print(\"Número de ejemplos de prueba:\", len(X_test))"
   ]
  },
  {
   "cell_type": "markdown",
   "id": "6378d72f",
   "metadata": {},
   "source": [
    "# Entrenamiento modelo customizado"
   ]
  },
  {
   "cell_type": "code",
   "execution_count": 8,
   "id": "37f1341d",
   "metadata": {},
   "outputs": [
    {
     "name": "stderr",
     "output_type": "stream",
     "text": [
      "c:\\Users\\nicol\\anaconda3\\lib\\site-packages\\keras\\src\\layers\\convolutional\\base_conv.py:99: UserWarning: Do not pass an `input_shape`/`input_dim` argument to a layer. When using Sequential models, prefer using an `Input(shape)` object as the first layer in the model instead.\n",
      "  super().__init__(\n"
     ]
    },
    {
     "data": {
      "text/html": [
       "<pre style=\"white-space:pre;overflow-x:auto;line-height:normal;font-family:Menlo,'DejaVu Sans Mono',consolas,'Courier New',monospace\"><span style=\"font-weight: bold\">Model: \"sequential\"</span>\n",
       "</pre>\n"
      ],
      "text/plain": [
       "\u001b[1mModel: \"sequential\"\u001b[0m\n"
      ]
     },
     "metadata": {},
     "output_type": "display_data"
    },
    {
     "data": {
      "text/html": [
       "<pre style=\"white-space:pre;overflow-x:auto;line-height:normal;font-family:Menlo,'DejaVu Sans Mono',consolas,'Courier New',monospace\">┏━━━━━━━━━━━━━━━━━━━━━━━━━━━━━━━━━┳━━━━━━━━━━━━━━━━━━━━━━━━┳━━━━━━━━━━━━━━━┓\n",
       "┃<span style=\"font-weight: bold\"> Layer (type)                    </span>┃<span style=\"font-weight: bold\"> Output Shape           </span>┃<span style=\"font-weight: bold\">       Param # </span>┃\n",
       "┡━━━━━━━━━━━━━━━━━━━━━━━━━━━━━━━━━╇━━━━━━━━━━━━━━━━━━━━━━━━╇━━━━━━━━━━━━━━━┩\n",
       "│ conv2d (<span style=\"color: #0087ff; text-decoration-color: #0087ff\">Conv2D</span>)                 │ (<span style=\"color: #00d7ff; text-decoration-color: #00d7ff\">None</span>, <span style=\"color: #00af00; text-decoration-color: #00af00\">254</span>, <span style=\"color: #00af00; text-decoration-color: #00af00\">254</span>, <span style=\"color: #00af00; text-decoration-color: #00af00\">32</span>)   │           <span style=\"color: #00af00; text-decoration-color: #00af00\">896</span> │\n",
       "├─────────────────────────────────┼────────────────────────┼───────────────┤\n",
       "│ max_pooling2d (<span style=\"color: #0087ff; text-decoration-color: #0087ff\">MaxPooling2D</span>)    │ (<span style=\"color: #00d7ff; text-decoration-color: #00d7ff\">None</span>, <span style=\"color: #00af00; text-decoration-color: #00af00\">127</span>, <span style=\"color: #00af00; text-decoration-color: #00af00\">127</span>, <span style=\"color: #00af00; text-decoration-color: #00af00\">32</span>)   │             <span style=\"color: #00af00; text-decoration-color: #00af00\">0</span> │\n",
       "├─────────────────────────────────┼────────────────────────┼───────────────┤\n",
       "│ conv2d_1 (<span style=\"color: #0087ff; text-decoration-color: #0087ff\">Conv2D</span>)               │ (<span style=\"color: #00d7ff; text-decoration-color: #00d7ff\">None</span>, <span style=\"color: #00af00; text-decoration-color: #00af00\">125</span>, <span style=\"color: #00af00; text-decoration-color: #00af00\">125</span>, <span style=\"color: #00af00; text-decoration-color: #00af00\">64</span>)   │        <span style=\"color: #00af00; text-decoration-color: #00af00\">18,496</span> │\n",
       "├─────────────────────────────────┼────────────────────────┼───────────────┤\n",
       "│ max_pooling2d_1 (<span style=\"color: #0087ff; text-decoration-color: #0087ff\">MaxPooling2D</span>)  │ (<span style=\"color: #00d7ff; text-decoration-color: #00d7ff\">None</span>, <span style=\"color: #00af00; text-decoration-color: #00af00\">62</span>, <span style=\"color: #00af00; text-decoration-color: #00af00\">62</span>, <span style=\"color: #00af00; text-decoration-color: #00af00\">64</span>)     │             <span style=\"color: #00af00; text-decoration-color: #00af00\">0</span> │\n",
       "├─────────────────────────────────┼────────────────────────┼───────────────┤\n",
       "│ flatten (<span style=\"color: #0087ff; text-decoration-color: #0087ff\">Flatten</span>)               │ (<span style=\"color: #00d7ff; text-decoration-color: #00d7ff\">None</span>, <span style=\"color: #00af00; text-decoration-color: #00af00\">246016</span>)         │             <span style=\"color: #00af00; text-decoration-color: #00af00\">0</span> │\n",
       "├─────────────────────────────────┼────────────────────────┼───────────────┤\n",
       "│ dense (<span style=\"color: #0087ff; text-decoration-color: #0087ff\">Dense</span>)                   │ (<span style=\"color: #00d7ff; text-decoration-color: #00d7ff\">None</span>, <span style=\"color: #00af00; text-decoration-color: #00af00\">64</span>)             │    <span style=\"color: #00af00; text-decoration-color: #00af00\">15,745,088</span> │\n",
       "├─────────────────────────────────┼────────────────────────┼───────────────┤\n",
       "│ dense_1 (<span style=\"color: #0087ff; text-decoration-color: #0087ff\">Dense</span>)                 │ (<span style=\"color: #00d7ff; text-decoration-color: #00d7ff\">None</span>, <span style=\"color: #00af00; text-decoration-color: #00af00\">5</span>)              │           <span style=\"color: #00af00; text-decoration-color: #00af00\">325</span> │\n",
       "└─────────────────────────────────┴────────────────────────┴───────────────┘\n",
       "</pre>\n"
      ],
      "text/plain": [
       "┏━━━━━━━━━━━━━━━━━━━━━━━━━━━━━━━━━┳━━━━━━━━━━━━━━━━━━━━━━━━┳━━━━━━━━━━━━━━━┓\n",
       "┃\u001b[1m \u001b[0m\u001b[1mLayer (type)                   \u001b[0m\u001b[1m \u001b[0m┃\u001b[1m \u001b[0m\u001b[1mOutput Shape          \u001b[0m\u001b[1m \u001b[0m┃\u001b[1m \u001b[0m\u001b[1m      Param #\u001b[0m\u001b[1m \u001b[0m┃\n",
       "┡━━━━━━━━━━━━━━━━━━━━━━━━━━━━━━━━━╇━━━━━━━━━━━━━━━━━━━━━━━━╇━━━━━━━━━━━━━━━┩\n",
       "│ conv2d (\u001b[38;5;33mConv2D\u001b[0m)                 │ (\u001b[38;5;45mNone\u001b[0m, \u001b[38;5;34m254\u001b[0m, \u001b[38;5;34m254\u001b[0m, \u001b[38;5;34m32\u001b[0m)   │           \u001b[38;5;34m896\u001b[0m │\n",
       "├─────────────────────────────────┼────────────────────────┼───────────────┤\n",
       "│ max_pooling2d (\u001b[38;5;33mMaxPooling2D\u001b[0m)    │ (\u001b[38;5;45mNone\u001b[0m, \u001b[38;5;34m127\u001b[0m, \u001b[38;5;34m127\u001b[0m, \u001b[38;5;34m32\u001b[0m)   │             \u001b[38;5;34m0\u001b[0m │\n",
       "├─────────────────────────────────┼────────────────────────┼───────────────┤\n",
       "│ conv2d_1 (\u001b[38;5;33mConv2D\u001b[0m)               │ (\u001b[38;5;45mNone\u001b[0m, \u001b[38;5;34m125\u001b[0m, \u001b[38;5;34m125\u001b[0m, \u001b[38;5;34m64\u001b[0m)   │        \u001b[38;5;34m18,496\u001b[0m │\n",
       "├─────────────────────────────────┼────────────────────────┼───────────────┤\n",
       "│ max_pooling2d_1 (\u001b[38;5;33mMaxPooling2D\u001b[0m)  │ (\u001b[38;5;45mNone\u001b[0m, \u001b[38;5;34m62\u001b[0m, \u001b[38;5;34m62\u001b[0m, \u001b[38;5;34m64\u001b[0m)     │             \u001b[38;5;34m0\u001b[0m │\n",
       "├─────────────────────────────────┼────────────────────────┼───────────────┤\n",
       "│ flatten (\u001b[38;5;33mFlatten\u001b[0m)               │ (\u001b[38;5;45mNone\u001b[0m, \u001b[38;5;34m246016\u001b[0m)         │             \u001b[38;5;34m0\u001b[0m │\n",
       "├─────────────────────────────────┼────────────────────────┼───────────────┤\n",
       "│ dense (\u001b[38;5;33mDense\u001b[0m)                   │ (\u001b[38;5;45mNone\u001b[0m, \u001b[38;5;34m64\u001b[0m)             │    \u001b[38;5;34m15,745,088\u001b[0m │\n",
       "├─────────────────────────────────┼────────────────────────┼───────────────┤\n",
       "│ dense_1 (\u001b[38;5;33mDense\u001b[0m)                 │ (\u001b[38;5;45mNone\u001b[0m, \u001b[38;5;34m5\u001b[0m)              │           \u001b[38;5;34m325\u001b[0m │\n",
       "└─────────────────────────────────┴────────────────────────┴───────────────┘\n"
      ]
     },
     "metadata": {},
     "output_type": "display_data"
    },
    {
     "data": {
      "text/html": [
       "<pre style=\"white-space:pre;overflow-x:auto;line-height:normal;font-family:Menlo,'DejaVu Sans Mono',consolas,'Courier New',monospace\"><span style=\"font-weight: bold\"> Total params: </span><span style=\"color: #00af00; text-decoration-color: #00af00\">15,764,805</span> (60.14 MB)\n",
       "</pre>\n"
      ],
      "text/plain": [
       "\u001b[1m Total params: \u001b[0m\u001b[38;5;34m15,764,805\u001b[0m (60.14 MB)\n"
      ]
     },
     "metadata": {},
     "output_type": "display_data"
    },
    {
     "data": {
      "text/html": [
       "<pre style=\"white-space:pre;overflow-x:auto;line-height:normal;font-family:Menlo,'DejaVu Sans Mono',consolas,'Courier New',monospace\"><span style=\"font-weight: bold\"> Trainable params: </span><span style=\"color: #00af00; text-decoration-color: #00af00\">15,764,805</span> (60.14 MB)\n",
       "</pre>\n"
      ],
      "text/plain": [
       "\u001b[1m Trainable params: \u001b[0m\u001b[38;5;34m15,764,805\u001b[0m (60.14 MB)\n"
      ]
     },
     "metadata": {},
     "output_type": "display_data"
    },
    {
     "data": {
      "text/html": [
       "<pre style=\"white-space:pre;overflow-x:auto;line-height:normal;font-family:Menlo,'DejaVu Sans Mono',consolas,'Courier New',monospace\"><span style=\"font-weight: bold\"> Non-trainable params: </span><span style=\"color: #00af00; text-decoration-color: #00af00\">0</span> (0.00 B)\n",
       "</pre>\n"
      ],
      "text/plain": [
       "\u001b[1m Non-trainable params: \u001b[0m\u001b[38;5;34m0\u001b[0m (0.00 B)\n"
      ]
     },
     "metadata": {},
     "output_type": "display_data"
    }
   ],
   "source": [
    "from keras.models import Sequential\n",
    "from keras.layers import Conv2D, MaxPooling2D, Flatten, Dense\n",
    "\n",
    "# Crear un modelo secuencial\n",
    "modelo = Sequential()\n",
    "\n",
    "# Agregar una capa convolucional\n",
    "modelo.add(Conv2D(32, (3, 3), activation='relu', input_shape=(256, 256, 3)))\n",
    "\n",
    "# Agregar una capa de agrupación\n",
    "modelo.add(MaxPooling2D((2, 2)))\n",
    "\n",
    "# Agregar otra capa convolucional\n",
    "modelo.add(Conv2D(64, (3, 3), activation='relu'))\n",
    "\n",
    "# Agregar otra capa de agrupación\n",
    "modelo.add(MaxPooling2D((2, 2)))\n",
    "\n",
    "# Agregar una capa de aplanamiento\n",
    "modelo.add(Flatten())\n",
    "\n",
    "# Agregar una capa totalmente conectada\n",
    "modelo.add(Dense(64, activation='relu'))\n",
    "\n",
    "# Agregar la capa de salida\n",
    "modelo.add(Dense(5, activation='softmax'))\n",
    "\n",
    "# Compilar el modelo\n",
    "modelo.compile(optimizer='adam', loss='sparse_categorical_crossentropy', metrics=['accuracy'])\n",
    "\n",
    "# Mostrar un resumen del modelo\n",
    "modelo.summary()\n"
   ]
  },
  {
   "cell_type": "code",
   "execution_count": 19,
   "id": "112bedc4",
   "metadata": {},
   "outputs": [],
   "source": [
    "from keras.callbacks import EarlyStopping, LearningRateScheduler\n",
    "import numpy as np\n",
    "\n",
    "# Función para reducir el learning rate en cada época\n",
    "def scheduler(epoch, lr):\n",
    "    if epoch < 5:\n",
    "        return lr\n",
    "    else:\n",
    "        return lr * np.exp(-0.1)\n",
    "\n",
    "# Crear el callback EarlyStopping para detener el entrenamiento si la métrica no mejora\n",
    "early_stopping = EarlyStopping(\n",
    "    monitor='val_loss',  # Métrica a monitorear\n",
    "    patience=3,          # Número de épocas sin mejora para detener el entrenamiento\n",
    "    verbose=1,           # Muestra mensajes en la salida estándar\n",
    "    restore_best_weights=True  # Restaurar los pesos del modelo en su mejor punto\n",
    ")"
   ]
  },
  {
   "cell_type": "code",
   "execution_count": 12,
   "id": "88be6b75",
   "metadata": {},
   "outputs": [
    {
     "name": "stdout",
     "output_type": "stream",
     "text": [
      "Epoch 1/15\n",
      "\u001b[1m45/45\u001b[0m \u001b[32m━━━━━━━━━━━━━━━━━━━━\u001b[0m\u001b[37m\u001b[0m \u001b[1m48s\u001b[0m 1s/step - accuracy: 0.2615 - loss: 2.3180 - val_accuracy: 0.5011 - val_loss: 1.2439 - learning_rate: 0.0010\n",
      "Epoch 2/15\n",
      "\u001b[1m45/45\u001b[0m \u001b[32m━━━━━━━━━━━━━━━━━━━━\u001b[0m\u001b[37m\u001b[0m \u001b[1m44s\u001b[0m 983ms/step - accuracy: 0.5521 - loss: 1.1054 - val_accuracy: 0.6737 - val_loss: 0.8347 - learning_rate: 0.0010\n",
      "Epoch 3/15\n",
      "\u001b[1m45/45\u001b[0m \u001b[32m━━━━━━━━━━━━━━━━━━━━\u001b[0m\u001b[37m\u001b[0m \u001b[1m40s\u001b[0m 882ms/step - accuracy: 0.7233 - loss: 0.7580 - val_accuracy: 0.8589 - val_loss: 0.5219 - learning_rate: 0.0010\n",
      "Epoch 4/15\n",
      "\u001b[1m45/45\u001b[0m \u001b[32m━━━━━━━━━━━━━━━━━━━━\u001b[0m\u001b[37m\u001b[0m \u001b[1m40s\u001b[0m 895ms/step - accuracy: 0.8625 - loss: 0.4761 - val_accuracy: 0.9347 - val_loss: 0.2629 - learning_rate: 0.0010\n",
      "Epoch 5/15\n",
      "\u001b[1m45/45\u001b[0m \u001b[32m━━━━━━━━━━━━━━━━━━━━\u001b[0m\u001b[37m\u001b[0m \u001b[1m40s\u001b[0m 886ms/step - accuracy: 0.9325 - loss: 0.2546 - val_accuracy: 0.9586 - val_loss: 0.1478 - learning_rate: 0.0010\n",
      "Epoch 6/15\n",
      "\u001b[1m45/45\u001b[0m \u001b[32m━━━━━━━━━━━━━━━━━━━━\u001b[0m\u001b[37m\u001b[0m \u001b[1m41s\u001b[0m 917ms/step - accuracy: 0.9699 - loss: 0.1081 - val_accuracy: 0.9986 - val_loss: 0.0291 - learning_rate: 9.0484e-04\n",
      "Epoch 7/15\n",
      "\u001b[1m45/45\u001b[0m \u001b[32m━━━━━━━━━━━━━━━━━━━━\u001b[0m\u001b[37m\u001b[0m \u001b[1m37s\u001b[0m 833ms/step - accuracy: 0.9973 - loss: 0.0276 - val_accuracy: 0.9993 - val_loss: 0.0117 - learning_rate: 8.1873e-04\n",
      "Epoch 8/15\n",
      "\u001b[1m45/45\u001b[0m \u001b[32m━━━━━━━━━━━━━━━━━━━━\u001b[0m\u001b[37m\u001b[0m \u001b[1m37s\u001b[0m 835ms/step - accuracy: 0.9982 - loss: 0.0160 - val_accuracy: 0.9993 - val_loss: 0.0098 - learning_rate: 7.4082e-04\n",
      "Epoch 9/15\n",
      "\u001b[1m45/45\u001b[0m \u001b[32m━━━━━━━━━━━━━━━━━━━━\u001b[0m\u001b[37m\u001b[0m \u001b[1m37s\u001b[0m 827ms/step - accuracy: 0.9988 - loss: 0.0117 - val_accuracy: 0.9993 - val_loss: 0.0075 - learning_rate: 6.7032e-04\n",
      "Epoch 10/15\n",
      "\u001b[1m45/45\u001b[0m \u001b[32m━━━━━━━━━━━━━━━━━━━━\u001b[0m\u001b[37m\u001b[0m \u001b[1m37s\u001b[0m 824ms/step - accuracy: 0.9985 - loss: 0.0102 - val_accuracy: 0.9993 - val_loss: 0.0044 - learning_rate: 6.0653e-04\n",
      "Epoch 11/15\n",
      "\u001b[1m45/45\u001b[0m \u001b[32m━━━━━━━━━━━━━━━━━━━━\u001b[0m\u001b[37m\u001b[0m \u001b[1m37s\u001b[0m 825ms/step - accuracy: 0.9989 - loss: 0.0091 - val_accuracy: 0.9993 - val_loss: 0.0053 - learning_rate: 5.4881e-04\n",
      "Epoch 12/15\n",
      "\u001b[1m45/45\u001b[0m \u001b[32m━━━━━━━━━━━━━━━━━━━━\u001b[0m\u001b[37m\u001b[0m \u001b[1m38s\u001b[0m 838ms/step - accuracy: 0.9995 - loss: 0.0046 - val_accuracy: 0.9993 - val_loss: 0.0041 - learning_rate: 4.9659e-04\n",
      "Epoch 13/15\n",
      "\u001b[1m45/45\u001b[0m \u001b[32m━━━━━━━━━━━━━━━━━━━━\u001b[0m\u001b[37m\u001b[0m \u001b[1m37s\u001b[0m 833ms/step - accuracy: 0.9997 - loss: 0.0041 - val_accuracy: 0.9993 - val_loss: 0.0040 - learning_rate: 4.4933e-04\n",
      "Epoch 14/15\n",
      "\u001b[1m45/45\u001b[0m \u001b[32m━━━━━━━━━━━━━━━━━━━━\u001b[0m\u001b[37m\u001b[0m \u001b[1m37s\u001b[0m 829ms/step - accuracy: 0.9999 - loss: 0.0024 - val_accuracy: 0.9993 - val_loss: 0.0034 - learning_rate: 4.0657e-04\n",
      "Epoch 15/15\n",
      "\u001b[1m45/45\u001b[0m \u001b[32m━━━━━━━━━━━━━━━━━━━━\u001b[0m\u001b[37m\u001b[0m \u001b[1m40s\u001b[0m 882ms/step - accuracy: 0.9993 - loss: 0.0049 - val_accuracy: 0.9993 - val_loss: 0.0036 - learning_rate: 3.6788e-04\n",
      "Restoring model weights from the end of the best epoch: 14.\n"
     ]
    }
   ],
   "source": [
    "# Crear el callback LearningRateScheduler\n",
    "lr_scheduler = LearningRateScheduler(scheduler)\n",
    "\n",
    "# Entrenar el modelo con los callbacks\n",
    "historial_entrenamiento = modelo.fit(\n",
    "    X_train_res, \n",
    "    y_train_res, \n",
    "    epochs=15, \n",
    "    validation_data=(X_train_res, y_train_res),\n",
    "    callbacks=[early_stopping, lr_scheduler]  # Agregar los callbacks aquí\n",
    ")"
   ]
  },
  {
   "cell_type": "code",
   "execution_count": 13,
   "id": "3866fcd9",
   "metadata": {},
   "outputs": [
    {
     "name": "stdout",
     "output_type": "stream",
     "text": [
      "\u001b[1m11/11\u001b[0m \u001b[32m━━━━━━━━━━━━━━━━━━━━\u001b[0m\u001b[37m\u001b[0m \u001b[1m2s\u001b[0m 175ms/step - accuracy: 0.6433 - loss: 1.1969\n"
     ]
    }
   ],
   "source": [
    "resultados_evaluacion = modelo.evaluate(X_test, y_test)"
   ]
  },
  {
   "cell_type": "code",
   "execution_count": 14,
   "id": "8e6bd070",
   "metadata": {},
   "outputs": [
    {
     "name": "stdout",
     "output_type": "stream",
     "text": [
      "\u001b[1m11/11\u001b[0m \u001b[32m━━━━━━━━━━━━━━━━━━━━\u001b[0m\u001b[37m\u001b[0m \u001b[1m2s\u001b[0m 178ms/step\n",
      "Precision: 0.6560062497702657\n",
      "Recall: 0.6510263929618768\n",
      "F1 Score: 0.6468608642362308\n",
      "Accuracy: 0.6510263929618768\n",
      "Classification Report:\n",
      "                 precision    recall  f1-score   support\n",
      "\n",
      "         Basket       0.44      0.53      0.48        74\n",
      "   Campo_Futbol       0.86      0.83      0.85        84\n",
      "Cancha_Multiple       0.56      0.33      0.42        57\n",
      "         Parque       0.74      0.74      0.74        68\n",
      "          Tenis       0.63      0.76      0.69        58\n",
      "\n",
      "       accuracy                           0.65       341\n",
      "      macro avg       0.65      0.64      0.63       341\n",
      "   weighted avg       0.66      0.65      0.65       341\n",
      "\n"
     ]
    }
   ],
   "source": [
    "from sklearn.metrics import classification_report, accuracy_score, f1_score, precision_score, recall_score\n",
    "\n",
    "# Predecir las etiquetas para el conjunto de prueba\n",
    "y_pred_prob = modelo.predict(X_test)\n",
    "y_pred = np.argmax(y_pred_prob, axis=1)\n",
    "\n",
    "# Calcular la precisión, recall, f1 score y accuracy\n",
    "precision = precision_score(y_test, y_pred, average='weighted')\n",
    "recall = recall_score(y_test, y_pred, average='weighted')\n",
    "f1 = f1_score(y_test, y_pred, average='weighted')\n",
    "accuracy = accuracy_score(y_test, y_pred)\n",
    "\n",
    "print(f\"Precision: {precision}\")\n",
    "print(f\"Recall: {recall}\")\n",
    "print(f\"F1 Score: {f1}\")\n",
    "print(f\"Accuracy: {accuracy}\")\n",
    "\n",
    "# Obtener un informe detallado de clasificación\n",
    "print(\"Classification Report:\")\n",
    "print(classification_report(y_test, y_pred, target_names=['Basket', 'Campo_Futbol', 'Cancha_Multiple', 'Parque', 'Tenis']))"
   ]
  },
  {
   "cell_type": "code",
   "execution_count": 15,
   "id": "76fa99f6",
   "metadata": {},
   "outputs": [
    {
     "data": {
      "image/png": "[encoded data removed]",
      "text/plain": [
       "<Figure size 640x480 with 1 Axes>"
      ]
     },
     "metadata": {},
     "output_type": "display_data"
    },
    {
     "data": {
      "image/png": "[encoded data removed]",
      "text/plain": [
       "<Figure size 640x480 with 1 Axes>"
      ]
     },
     "metadata": {},
     "output_type": "display_data"
    }
   ],
   "source": [
    "import matplotlib.pyplot as plt\n",
    "\n",
    "# Obtener la pérdida y la precisión del historial de entrenamiento\n",
    "pérdida = historial_entrenamiento.history['loss']\n",
    "precisión = historial_entrenamiento.history['accuracy']\n",
    "val_pérdida = historial_entrenamiento.history['val_loss']\n",
    "val_precisión = historial_entrenamiento.history['val_accuracy']\n",
    "\n",
    "# Visualizar las curvas de pérdida y precisión\n",
    "épocas = range(1, len(pérdida) + 1)\n",
    "plt.plot(épocas, pérdida, 'bo', label='Pérdida de entrenamiento')\n",
    "plt.plot(épocas, val_pérdida, 'b', label='Pérdida de validación')\n",
    "plt.title('Curvas de Pérdida')\n",
    "plt.xlabel('Épocas')\n",
    "plt.ylabel('Pérdida')\n",
    "plt.legend()\n",
    "plt.show()\n",
    "\n",
    "plt.plot(épocas, precisión, 'bo', label='Precisión de entrenamiento')\n",
    "plt.plot(épocas, val_precisión, 'b', label='Precisión de validación')\n",
    "plt.title('Curvas de Precisión')\n",
    "plt.xlabel('Épocas')\n",
    "plt.ylabel('Precisión')\n",
    "plt.legend()\n",
    "plt.show()\n"
   ]
  },
  {
   "cell_type": "markdown",
   "id": "75c346cf",
   "metadata": {},
   "source": [
    "# Entrenamiento con VGG16"
   ]
  },
  {
   "cell_type": "code",
   "execution_count": 16,
   "id": "32e3fc85",
   "metadata": {},
   "outputs": [],
   "source": [
    "from tensorflow.keras.applications import VGG16\n",
    "from tensorflow.keras.models import Model\n",
    "from tensorflow.keras.layers import Dense, Flatten, Dropout\n",
    "from tensorflow.keras.optimizers import Adam\n",
    "\n",
    "# Función para reducir el learning rate en cada época\n",
    "def scheduler(epoch, lr):\n",
    "    if epoch < 5:\n",
    "        return lr\n",
    "    else:\n",
    "        return lr * np.exp(-0.1)\n",
    "\n",
    "# Crear el callback EarlyStopping\n",
    "early_stopping = EarlyStopping(\n",
    "    monitor='val_loss',  # Métrica a monitorear\n",
    "    patience=5,          # Número de épocas sin mejora para detener el entrenamiento\n",
    "    verbose=1,           # Muestra mensajes en la salida estándar\n",
    "    restore_best_weights=True  # Restaurar los pesos del modelo en su mejor punto\n",
    ")\n",
    "\n",
    "# Crear el callback LearningRateScheduler\n",
    "lr_scheduler = LearningRateScheduler(scheduler)\n",
    "\n",
    "# Cargar el modelo VGG16 \n",
    "base_model = VGG16(weights='imagenet', include_top=False, input_shape=(256, 256, 3))\n",
    "\n",
    "# Congelar las capas del modelo base\n",
    "for layer in base_model.layers:\n",
    "    layer.trainable = False\n",
    "\n",
    "# Añadir nuevas capas superiores\n",
    "x = base_model.output\n",
    "x = Flatten()(x)\n",
    "x = Dense(128, activation='relu')(x)\n",
    "x = Dropout(0.5)(x)\n",
    "predictions = Dense(5, activation='softmax')(x)  \n",
    "\n"
   ]
  },
  {
   "cell_type": "code",
   "execution_count": 17,
   "id": "8f5552af",
   "metadata": {},
   "outputs": [
    {
     "name": "stdout",
     "output_type": "stream",
     "text": [
      "Epoch 1/10\n",
      "\u001b[1m45/45\u001b[0m \u001b[32m━━━━━━━━━━━━━━━━━━━━\u001b[0m\u001b[37m\u001b[0m \u001b[1m165s\u001b[0m 4s/step - accuracy: 0.2934 - loss: 2.7099 - val_accuracy: 0.5191 - val_loss: 1.2613 - learning_rate: 0.0010\n",
      "Epoch 2/10\n",
      "\u001b[1m45/45\u001b[0m \u001b[32m━━━━━━━━━━━━━━━━━━━━\u001b[0m\u001b[37m\u001b[0m \u001b[1m160s\u001b[0m 4s/step - accuracy: 0.4215 - loss: 1.2574 - val_accuracy: 0.6305 - val_loss: 1.0063 - learning_rate: 0.0010\n",
      "Epoch 3/10\n",
      "\u001b[1m45/45\u001b[0m \u001b[32m━━━━━━━━━━━━━━━━━━━━\u001b[0m\u001b[37m\u001b[0m \u001b[1m160s\u001b[0m 4s/step - accuracy: 0.4601 - loss: 1.1396 - val_accuracy: 0.6100 - val_loss: 0.9884 - learning_rate: 0.0010\n",
      "Epoch 4/10\n",
      "\u001b[1m45/45\u001b[0m \u001b[32m━━━━━━━━━━━━━━━━━━━━\u001b[0m\u001b[37m\u001b[0m \u001b[1m161s\u001b[0m 4s/step - accuracy: 0.5467 - loss: 0.9932 - val_accuracy: 0.7419 - val_loss: 0.8178 - learning_rate: 0.0010\n",
      "Epoch 5/10\n",
      "\u001b[1m45/45\u001b[0m \u001b[32m━━━━━━━━━━━━━━━━━━━━\u001b[0m\u001b[37m\u001b[0m \u001b[1m160s\u001b[0m 4s/step - accuracy: 0.5859 - loss: 0.9357 - val_accuracy: 0.7126 - val_loss: 0.8041 - learning_rate: 0.0010\n",
      "Epoch 6/10\n",
      "\u001b[1m45/45\u001b[0m \u001b[32m━━━━━━━━━━━━━━━━━━━━\u001b[0m\u001b[37m\u001b[0m \u001b[1m160s\u001b[0m 4s/step - accuracy: 0.6114 - loss: 0.8312 - val_accuracy: 0.7097 - val_loss: 0.8081 - learning_rate: 9.0484e-04\n",
      "Epoch 7/10\n",
      "\u001b[1m45/45\u001b[0m \u001b[32m━━━━━━━━━━━━━━━━━━━━\u001b[0m\u001b[37m\u001b[0m \u001b[1m160s\u001b[0m 4s/step - accuracy: 0.6460 - loss: 0.7837 - val_accuracy: 0.7478 - val_loss: 0.7164 - learning_rate: 8.1873e-04\n",
      "Epoch 8/10\n",
      "\u001b[1m45/45\u001b[0m \u001b[32m━━━━━━━━━━━━━━━━━━━━\u001b[0m\u001b[37m\u001b[0m \u001b[1m159s\u001b[0m 4s/step - accuracy: 0.7027 - loss: 0.6444 - val_accuracy: 0.7478 - val_loss: 0.6719 - learning_rate: 7.4082e-04\n",
      "Epoch 9/10\n",
      "\u001b[1m45/45\u001b[0m \u001b[32m━━━━━━━━━━━━━━━━━━━━\u001b[0m\u001b[37m\u001b[0m \u001b[1m159s\u001b[0m 4s/step - accuracy: 0.6864 - loss: 0.6326 - val_accuracy: 0.7713 - val_loss: 0.6551 - learning_rate: 6.7032e-04\n",
      "Epoch 10/10\n",
      "\u001b[1m45/45\u001b[0m \u001b[32m━━━━━━━━━━━━━━━━━━━━\u001b[0m\u001b[37m\u001b[0m \u001b[1m158s\u001b[0m 4s/step - accuracy: 0.7364 - loss: 0.5905 - val_accuracy: 0.7595 - val_loss: 0.6600 - learning_rate: 6.0653e-04\n",
      "Restoring model weights from the end of the best epoch: 9.\n"
     ]
    },
    {
     "data": {
      "text/plain": [
       "<keras.src.callbacks.history.History at 0x197f93e7f70>"
      ]
     },
     "execution_count": 17,
     "metadata": {},
     "output_type": "execute_result"
    }
   ],
   "source": [
    "# Crear el modelo completo\n",
    "model = Model(inputs=base_model.input, outputs=predictions)\n",
    "\n",
    "# Compilar el modelo\n",
    "model.compile(optimizer=Adam(), loss='sparse_categorical_crossentropy', metrics=['accuracy'])\n",
    "\n",
    "\n",
    "# Entrenar el modelo con los callbacks\n",
    "model.fit(\n",
    "    X_train_res, \n",
    "    y_train_res, \n",
    "    epochs=10, \n",
    "    validation_data=(X_test, y_test),\n",
    "    callbacks=[early_stopping, lr_scheduler]  # Agregar los callbacks aquí\n",
    ")\n"
   ]
  },
  {
   "cell_type": "code",
   "execution_count": 18,
   "id": "23d53dfe",
   "metadata": {},
   "outputs": [
    {
     "name": "stdout",
     "output_type": "stream",
     "text": [
      "\u001b[1m11/11\u001b[0m \u001b[32m━━━━━━━━━━━━━━━━━━━━\u001b[0m\u001b[37m\u001b[0m \u001b[1m31s\u001b[0m 3s/step\n",
      "Precision: 0.7756716486422871\n",
      "Recall: 0.7712609970674487\n",
      "F1 Score: 0.7712113717764317\n",
      "Accuracy: 0.7712609970674487\n",
      "Classification Report:\n",
      "                 precision    recall  f1-score   support\n",
      "\n",
      "         Basket       0.58      0.59      0.59        74\n",
      "   Campo_Futbol       0.99      0.88      0.93        84\n",
      "Cancha_Multiple       0.62      0.54      0.58        57\n",
      "         Parque       0.92      0.96      0.94        68\n",
      "          Tenis       0.71      0.84      0.77        58\n",
      "\n",
      "       accuracy                           0.77       341\n",
      "      macro avg       0.76      0.76      0.76       341\n",
      "   weighted avg       0.78      0.77      0.77       341\n",
      "\n"
     ]
    }
   ],
   "source": [
    "\n",
    "# Evaluar el modelo\n",
    "y_pred_prob = model.predict(X_test)\n",
    "y_pred = np.argmax(y_pred_prob, axis=1)\n",
    "\n",
    "# Calcular las métricas\n",
    "precision = precision_score(y_test, y_pred, average='weighted')\n",
    "recall = recall_score(y_test, y_pred, average='weighted')\n",
    "f1 = f1_score(y_test, y_pred, average='weighted')\n",
    "accuracy = accuracy_score(y_test, y_pred)\n",
    "\n",
    "print(f\"Precision: {precision}\")\n",
    "print(f\"Recall: {recall}\")\n",
    "print(f\"F1 Score: {f1}\")\n",
    "print(f\"Accuracy: {accuracy}\")\n",
    "\n",
    "# Obtener un informe detallado de clasificación\n",
    "print(\"Classification Report:\")\n",
    "print(classification_report(y_test, y_pred, target_names=['Basket', 'Campo_Futbol', 'Cancha_Multiple', 'Parque', 'Tenis']))"
   ]
  },
  {
   "cell_type": "markdown",
   "id": "b49b3391",
   "metadata": {},
   "source": [
    "# Entrenamiento con Resnet18 Preentrenado con Imagenet"
   ]
  },
  {
   "cell_type": "code",
   "execution_count": 19,
   "id": "7835c338",
   "metadata": {},
   "outputs": [],
   "source": [
    "import torch\n",
    "from torch.utils.data import Dataset, DataLoader\n",
    "from torchvision import transforms\n",
    "\n",
    "# Configuraciones\n",
    "device = torch.device(\"cuda\" if torch.cuda.is_available() else \"cpu\")\n",
    "num_epochs = 10\n",
    "batch_size = 32\n",
    "learning_rate = 0.001\n",
    "patience = 3  # Paciencia para EarlyStopping\n",
    "\n",
    "class CustomDataset(Dataset):\n",
    "    def __init__(self, images, labels, transform=None):\n",
    "        self.images = images\n",
    "        self.labels = labels\n",
    "        self.transform = transform\n",
    "\n",
    "    def __len__(self):\n",
    "        return len(self.images)\n",
    "\n",
    "    def __getitem__(self, idx):\n",
    "        image = self.images[idx]\n",
    "        label = self.labels[idx]\n",
    "        if self.transform:\n",
    "            image = self.transform(image)\n",
    "        return image, label\n",
    "\n",
    "# Definir transformaciones (si no lo hiciste en tu preprocesamiento)\n",
    "transform = transforms.Compose([\n",
    "    transforms.ToPILImage(),  # Convertir de numpy array a PIL image\n",
    "    transforms.ToTensor(),  # Convertir de PIL image a tensor\n",
    "])\n",
    "\n",
    "\n",
    "# Convertir las etiquetas a LongTensor\n",
    "train_dataset = CustomDataset(X_train_res, y_train_res.astype(int), transform=transform)\n",
    "test_dataset = CustomDataset(X_test, y_test.astype(int), transform=transform)\n",
    "\n",
    "trainloader = DataLoader(train_dataset, batch_size=32, shuffle=True)\n",
    "testloader = DataLoader(test_dataset, batch_size=32, shuffle=False)\n"
   ]
  },
  {
   "cell_type": "code",
   "execution_count": 20,
   "id": "0e3e0c80",
   "metadata": {},
   "outputs": [
    {
     "name": "stderr",
     "output_type": "stream",
     "text": [
      "c:\\Users\\nicol\\anaconda3\\lib\\site-packages\\torchvision\\models\\_utils.py:208: UserWarning: The parameter 'pretrained' is deprecated since 0.13 and may be removed in the future, please use 'weights' instead.\n",
      "  warnings.warn(\n",
      "c:\\Users\\nicol\\anaconda3\\lib\\site-packages\\torchvision\\models\\_utils.py:223: UserWarning: Arguments other than a weight enum or `None` for 'weights' are deprecated since 0.13 and may be removed in the future. The current behavior is equivalent to passing `weights=ResNet18_Weights.IMAGENET1K_V1`. You can also use `weights=ResNet18_Weights.DEFAULT` to get the most up-to-date weights.\n",
      "  warnings.warn(msg)\n"
     ]
    },
    {
     "data": {
      "text/plain": [
       "ResNet(\n",
       "  (conv1): Conv2d(3, 64, kernel_size=(7, 7), stride=(2, 2), padding=(3, 3), bias=False)\n",
       "  (bn1): BatchNorm2d(64, eps=1e-05, momentum=0.1, affine=True, track_running_stats=True)\n",
       "  (relu): ReLU(inplace=True)\n",
       "  (maxpool): MaxPool2d(kernel_size=3, stride=2, padding=1, dilation=1, ceil_mode=False)\n",
       "  (layer1): Sequential(\n",
       "    (0): BasicBlock(\n",
       "      (conv1): Conv2d(64, 64, kernel_size=(3, 3), stride=(1, 1), padding=(1, 1), bias=False)\n",
       "      (bn1): BatchNorm2d(64, eps=1e-05, momentum=0.1, affine=True, track_running_stats=True)\n",
       "      (relu): ReLU(inplace=True)\n",
       "      (conv2): Conv2d(64, 64, kernel_size=(3, 3), stride=(1, 1), padding=(1, 1), bias=False)\n",
       "      (bn2): BatchNorm2d(64, eps=1e-05, momentum=0.1, affine=True, track_running_stats=True)\n",
       "    )\n",
       "    (1): BasicBlock(\n",
       "      (conv1): Conv2d(64, 64, kernel_size=(3, 3), stride=(1, 1), padding=(1, 1), bias=False)\n",
       "      (bn1): BatchNorm2d(64, eps=1e-05, momentum=0.1, affine=True, track_running_stats=True)\n",
       "      (relu): ReLU(inplace=True)\n",
       "      (conv2): Conv2d(64, 64, kernel_size=(3, 3), stride=(1, 1), padding=(1, 1), bias=False)\n",
       "      (bn2): BatchNorm2d(64, eps=1e-05, momentum=0.1, affine=True, track_running_stats=True)\n",
       "    )\n",
       "  )\n",
       "  (layer2): Sequential(\n",
       "    (0): BasicBlock(\n",
       "      (conv1): Conv2d(64, 128, kernel_size=(3, 3), stride=(2, 2), padding=(1, 1), bias=False)\n",
       "      (bn1): BatchNorm2d(128, eps=1e-05, momentum=0.1, affine=True, track_running_stats=True)\n",
       "      (relu): ReLU(inplace=True)\n",
       "      (conv2): Conv2d(128, 128, kernel_size=(3, 3), stride=(1, 1), padding=(1, 1), bias=False)\n",
       "      (bn2): BatchNorm2d(128, eps=1e-05, momentum=0.1, affine=True, track_running_stats=True)\n",
       "      (downsample): Sequential(\n",
       "        (0): Conv2d(64, 128, kernel_size=(1, 1), stride=(2, 2), bias=False)\n",
       "        (1): BatchNorm2d(128, eps=1e-05, momentum=0.1, affine=True, track_running_stats=True)\n",
       "      )\n",
       "    )\n",
       "    (1): BasicBlock(\n",
       "      (conv1): Conv2d(128, 128, kernel_size=(3, 3), stride=(1, 1), padding=(1, 1), bias=False)\n",
       "      (bn1): BatchNorm2d(128, eps=1e-05, momentum=0.1, affine=True, track_running_stats=True)\n",
       "      (relu): ReLU(inplace=True)\n",
       "      (conv2): Conv2d(128, 128, kernel_size=(3, 3), stride=(1, 1), padding=(1, 1), bias=False)\n",
       "      (bn2): BatchNorm2d(128, eps=1e-05, momentum=0.1, affine=True, track_running_stats=True)\n",
       "    )\n",
       "  )\n",
       "  (layer3): Sequential(\n",
       "    (0): BasicBlock(\n",
       "      (conv1): Conv2d(128, 256, kernel_size=(3, 3), stride=(2, 2), padding=(1, 1), bias=False)\n",
       "      (bn1): BatchNorm2d(256, eps=1e-05, momentum=0.1, affine=True, track_running_stats=True)\n",
       "      (relu): ReLU(inplace=True)\n",
       "      (conv2): Conv2d(256, 256, kernel_size=(3, 3), stride=(1, 1), padding=(1, 1), bias=False)\n",
       "      (bn2): BatchNorm2d(256, eps=1e-05, momentum=0.1, affine=True, track_running_stats=True)\n",
       "      (downsample): Sequential(\n",
       "        (0): Conv2d(128, 256, kernel_size=(1, 1), stride=(2, 2), bias=False)\n",
       "        (1): BatchNorm2d(256, eps=1e-05, momentum=0.1, affine=True, track_running_stats=True)\n",
       "      )\n",
       "    )\n",
       "    (1): BasicBlock(\n",
       "      (conv1): Conv2d(256, 256, kernel_size=(3, 3), stride=(1, 1), padding=(1, 1), bias=False)\n",
       "      (bn1): BatchNorm2d(256, eps=1e-05, momentum=0.1, affine=True, track_running_stats=True)\n",
       "      (relu): ReLU(inplace=True)\n",
       "      (conv2): Conv2d(256, 256, kernel_size=(3, 3), stride=(1, 1), padding=(1, 1), bias=False)\n",
       "      (bn2): BatchNorm2d(256, eps=1e-05, momentum=0.1, affine=True, track_running_stats=True)\n",
       "    )\n",
       "  )\n",
       "  (layer4): Sequential(\n",
       "    (0): BasicBlock(\n",
       "      (conv1): Conv2d(256, 512, kernel_size=(3, 3), stride=(2, 2), padding=(1, 1), bias=False)\n",
       "      (bn1): BatchNorm2d(512, eps=1e-05, momentum=0.1, affine=True, track_running_stats=True)\n",
       "      (relu): ReLU(inplace=True)\n",
       "      (conv2): Conv2d(512, 512, kernel_size=(3, 3), stride=(1, 1), padding=(1, 1), bias=False)\n",
       "      (bn2): BatchNorm2d(512, eps=1e-05, momentum=0.1, affine=True, track_running_stats=True)\n",
       "      (downsample): Sequential(\n",
       "        (0): Conv2d(256, 512, kernel_size=(1, 1), stride=(2, 2), bias=False)\n",
       "        (1): BatchNorm2d(512, eps=1e-05, momentum=0.1, affine=True, track_running_stats=True)\n",
       "      )\n",
       "    )\n",
       "    (1): BasicBlock(\n",
       "      (conv1): Conv2d(512, 512, kernel_size=(3, 3), stride=(1, 1), padding=(1, 1), bias=False)\n",
       "      (bn1): BatchNorm2d(512, eps=1e-05, momentum=0.1, affine=True, track_running_stats=True)\n",
       "      (relu): ReLU(inplace=True)\n",
       "      (conv2): Conv2d(512, 512, kernel_size=(3, 3), stride=(1, 1), padding=(1, 1), bias=False)\n",
       "      (bn2): BatchNorm2d(512, eps=1e-05, momentum=0.1, affine=True, track_running_stats=True)\n",
       "    )\n",
       "  )\n",
       "  (avgpool): AdaptiveAvgPool2d(output_size=(1, 1))\n",
       "  (fc): Linear(in_features=512, out_features=5, bias=True)\n",
       ")"
      ]
     },
     "execution_count": 20,
     "metadata": {},
     "output_type": "execute_result"
    }
   ],
   "source": [
    "import torch.nn as nn\n",
    "import torch.optim as optim\n",
    "from torchvision import models\n",
    "\n",
    "# Cargar el modelo ResNet-18 preentrenado\n",
    "model = models.resnet18(pretrained=True)\n",
    "\n",
    "# Congelar todas las capas del modelo base\n",
    "for param in model.parameters():\n",
    "    param.requires_grad = False\n",
    "\n",
    "# Modificar la última capa para que coincida con el número de clases\n",
    "num_features = model.fc.in_features\n",
    "model.fc = nn.Linear(num_features, 5) \n",
    "\n",
    "# Mover el modelo a la GPU si está disponible\n",
    "device = torch.device(\"cuda\" if torch.cuda.is_available() else \"cpu\")\n",
    "model.to(device)"
   ]
  },
  {
   "cell_type": "code",
   "execution_count": 21,
   "id": "cccd0b5a",
   "metadata": {},
   "outputs": [
    {
     "name": "stderr",
     "output_type": "stream",
     "text": [
      "c:\\Users\\nicol\\anaconda3\\lib\\site-packages\\torch\\optim\\lr_scheduler.py:60: UserWarning: The verbose parameter is deprecated. Please use get_last_lr() to access the learning rate.\n",
      "  warnings.warn(\n"
     ]
    }
   ],
   "source": [
    "# Definir la función de pérdida y el optimizador\n",
    "criterion = nn.CrossEntropyLoss()\n",
    "optimizer = optim.Adam(model.parameters(), lr=learning_rate)\n",
    "scheduler = optim.lr_scheduler.ReduceLROnPlateau(optimizer, mode='min', factor=0.1, patience=2, verbose=True)\n",
    "\n",
    "# Early stopping variables\n",
    "best_loss = np.Inf\n",
    "epochs_no_improve = 0\n",
    "early_stop = False"
   ]
  },
  {
   "cell_type": "code",
   "execution_count": 22,
   "id": "76594c4c",
   "metadata": {},
   "outputs": [
    {
     "name": "stdout",
     "output_type": "stream",
     "text": [
      "Epoch 1, Loss: 1.4297729465696547\n",
      "Validation Loss: 1.1413363109935413\n",
      "Epoch 2, Loss: 1.0903220309151544\n",
      "Validation Loss: 0.9894820072434165\n",
      "Epoch 3, Loss: 0.9351172751850552\n",
      "Validation Loss: 0.8842610987749967\n",
      "Epoch 4, Loss: 0.8600048899650574\n",
      "Validation Loss: 0.8122402104464445\n",
      "Epoch 5, Loss: 0.8049014250437418\n",
      "Validation Loss: 0.7792271375656128\n",
      "Epoch 6, Loss: 0.762787659962972\n",
      "Validation Loss: 0.7610108039595864\n",
      "Epoch 7, Loss: 0.7298314597871568\n",
      "Validation Loss: 0.7144485224377025\n",
      "Epoch 8, Loss: 0.6782502935992347\n",
      "Validation Loss: 0.700478960167278\n",
      "Epoch 9, Loss: 0.6644371098942227\n",
      "Validation Loss: 0.6768219877373088\n",
      "Epoch 10, Loss: 0.6402477496200137\n",
      "Validation Loss: 0.6635413847186349\n"
     ]
    }
   ],
   "source": [
    "# Entrenamiento del modelo\n",
    "for epoch in range(num_epochs):\n",
    "    model.train()\n",
    "    running_loss = 0.0\n",
    "    \n",
    "    for inputs, labels in trainloader:\n",
    "        inputs, labels = inputs.to(device), labels.to(device, dtype=torch.long)\n",
    "        \n",
    "        optimizer.zero_grad()  # Limpiar gradientes\n",
    "        \n",
    "        outputs = model(inputs)  # Forward pass\n",
    "        loss = criterion(outputs, labels)  # Calcular pérdida\n",
    "        loss.backward()  # Backward pass\n",
    "        optimizer.step()  # Actualizar pesos\n",
    "        \n",
    "        running_loss += loss.item()\n",
    "    \n",
    "    # Calcular la pérdida media\n",
    "    epoch_loss = running_loss / len(trainloader)\n",
    "    print(f'Epoch {epoch+1}, Loss: {epoch_loss}')\n",
    "    \n",
    "    # Validación\n",
    "    model.eval()\n",
    "    val_loss = 0.0\n",
    "    with torch.no_grad():\n",
    "        for inputs, labels in testloader:\n",
    "            inputs, labels = inputs.to(device), labels.to(device, dtype=torch.long)\n",
    "            outputs = model(inputs)\n",
    "            loss = criterion(outputs, labels)\n",
    "            val_loss += loss.item()\n",
    "    \n",
    "    val_loss /= len(testloader)\n",
    "    print(f'Validation Loss: {val_loss}')\n",
    "    \n",
    "    # Scheduler\n",
    "    scheduler.step(val_loss)\n",
    "    \n",
    "    # Early Stopping\n",
    "    if val_loss < best_loss:\n",
    "        best_loss = val_loss\n",
    "        epochs_no_improve = 0\n",
    "    else:\n",
    "        epochs_no_improve += 1\n",
    "    \n",
    "    if epochs_no_improve >= patience:\n",
    "        print('Early stopping triggered')\n",
    "        early_stop = True\n",
    "        break\n",
    "\n",
    "    if early_stop:\n",
    "        break\n"
   ]
  },
  {
   "cell_type": "code",
   "execution_count": 23,
   "id": "33f85c41",
   "metadata": {},
   "outputs": [
    {
     "name": "stdout",
     "output_type": "stream",
     "text": [
      "Accuracy: 79.17889%\n",
      "Precision: 0.79240\n",
      "Recall: 0.79179\n",
      "F1 Score: 0.79120\n"
     ]
    }
   ],
   "source": [
    "from sklearn.metrics import precision_score, recall_score, f1_score, accuracy_score\n",
    "\n",
    "model.eval()  # Modo de evaluación\n",
    "\n",
    "all_labels = []\n",
    "all_preds = []\n",
    "\n",
    "with torch.no_grad():\n",
    "    for inputs, labels in testloader:\n",
    "        inputs, labels = inputs.to(device), labels.to(device)\n",
    "        outputs = model(inputs)\n",
    "        _, predicted = torch.max(outputs, 1)\n",
    "\n",
    "        all_labels.extend(labels.cpu().numpy())  # Mover los datos a la CPU y agregarlos a la lista\n",
    "        all_preds.extend(predicted.cpu().numpy())  # Mover los datos a la CPU y agregarlos a la lista\n",
    "\n",
    "# Calcular las métricas\n",
    "accuracy = accuracy_score(all_labels, all_preds)\n",
    "precision = precision_score(all_labels, all_preds, average='weighted')\n",
    "recall = recall_score(all_labels, all_preds, average='weighted')\n",
    "f1 = f1_score(all_labels, all_preds, average='weighted')\n",
    "\n",
    "print(f'Accuracy: {accuracy * 100:.5f}%')\n",
    "print(f'Precision: {precision:.5f}')\n",
    "print(f'Recall: {recall:.5f}')\n",
    "print(f'F1 Score: {f1:.5f}')\n",
    "\n"
   ]
  },
  {
   "cell_type": "markdown",
   "id": "8e34a2ed",
   "metadata": {},
   "source": [
    "# Modelo Preentrenado Xception con ImageNet"
   ]
  },
  {
   "cell_type": "code",
   "execution_count": 20,
   "id": "4cb26919",
   "metadata": {},
   "outputs": [],
   "source": [
    "import tensorflow as tf\n",
    "from tensorflow.keras.applications import Xception\n",
    "from tensorflow.keras.models import Model\n",
    "from tensorflow.keras.layers import Dense, GlobalAveragePooling2D\n",
    "from tensorflow.keras.layers import Dense, Flatten, Dropout\n",
    "from tensorflow.keras.optimizers import Adam\n",
    "from keras.callbacks import EarlyStopping, LearningRateScheduler\n",
    "import numpy as np\n",
    "\n",
    "# Función para reducir el learning rate en cada época\n",
    "def scheduler(epoch, lr):\n",
    "    if epoch < 5:\n",
    "        return lr\n",
    "    else:\n",
    "        return lr * np.exp(-0.1)\n",
    "\n",
    "# Crear el callback EarlyStopping\n",
    "early_stopping = EarlyStopping(\n",
    "    monitor='val_loss',  # Métrica a monitorear\n",
    "    patience=5,          # Número de épocas sin mejora para detener el entrenamiento\n",
    "    verbose=1,           # Muestra mensajes en la salida estándar\n",
    "    restore_best_weights=True  # Restaurar los pesos del modelo en su mejor punto\n",
    ")\n",
    "\n",
    "# Crear el callback LearningRateScheduler\n",
    "lr_scheduler = LearningRateScheduler(scheduler)\n",
    "\n",
    "# Cargar el modelo Xception \n",
    "base_model = Xception(weights='imagenet', include_top=False, input_shape=(256, 256, 3))\n",
    "\n",
    "# Congelar las capas del modelo base\n",
    "for layer in base_model.layers:\n",
    "    layer.trainable = False\n",
    "\n",
    "# Añadir nuevas capas superiores\n",
    "x = base_model.output\n",
    "x = Flatten()(x)\n",
    "x = Dense(128, activation='relu')(x)\n",
    "x = Dropout(0.5)(x)\n",
    "predictions = Dense(5, activation='softmax')(x)  \n",
    "\n",
    "\n"
   ]
  },
  {
   "cell_type": "code",
   "execution_count": 21,
   "id": "91ef94f3",
   "metadata": {},
   "outputs": [
    {
     "name": "stdout",
     "output_type": "stream",
     "text": [
      "Epoch 1/10\n",
      "\u001b[1m45/45\u001b[0m \u001b[32m━━━━━━━━━━━━━━━━━━━━\u001b[0m\u001b[37m\u001b[0m \u001b[1m178s\u001b[0m 4s/step - accuracy: 0.3675 - loss: 8.5033 - val_accuracy: 0.5161 - val_loss: 1.1080 - learning_rate: 0.0010\n",
      "Epoch 2/10\n",
      "\u001b[1m45/45\u001b[0m \u001b[32m━━━━━━━━━━━━━━━━━━━━\u001b[0m\u001b[37m\u001b[0m \u001b[1m154s\u001b[0m 3s/step - accuracy: 0.4875 - loss: 1.1499 - val_accuracy: 0.6393 - val_loss: 0.8372 - learning_rate: 0.0010\n",
      "Epoch 3/10\n",
      "\u001b[1m45/45\u001b[0m \u001b[32m━━━━━━━━━━━━━━━━━━━━\u001b[0m\u001b[37m\u001b[0m \u001b[1m157s\u001b[0m 3s/step - accuracy: 0.5839 - loss: 0.9552 - val_accuracy: 0.6833 - val_loss: 0.7897 - learning_rate: 0.0010\n",
      "Epoch 4/10\n",
      "\u001b[1m45/45\u001b[0m \u001b[32m━━━━━━━━━━━━━━━━━━━━\u001b[0m\u001b[37m\u001b[0m \u001b[1m162s\u001b[0m 4s/step - accuracy: 0.6204 - loss: 0.8265 - val_accuracy: 0.6657 - val_loss: 0.8066 - learning_rate: 0.0010\n",
      "Epoch 5/10\n",
      "\u001b[1m45/45\u001b[0m \u001b[32m━━━━━━━━━━━━━━━━━━━━\u001b[0m\u001b[37m\u001b[0m \u001b[1m163s\u001b[0m 4s/step - accuracy: 0.6671 - loss: 0.8276 - val_accuracy: 0.7185 - val_loss: 0.6787 - learning_rate: 0.0010\n",
      "Epoch 6/10\n",
      "\u001b[1m45/45\u001b[0m \u001b[32m━━━━━━━━━━━━━━━━━━━━\u001b[0m\u001b[37m\u001b[0m \u001b[1m162s\u001b[0m 4s/step - accuracy: 0.7053 - loss: 0.6580 - val_accuracy: 0.7243 - val_loss: 0.7364 - learning_rate: 9.0484e-04\n",
      "Epoch 7/10\n",
      "\u001b[1m45/45\u001b[0m \u001b[32m━━━━━━━━━━━━━━━━━━━━\u001b[0m\u001b[37m\u001b[0m \u001b[1m163s\u001b[0m 4s/step - accuracy: 0.7229 - loss: 0.7075 - val_accuracy: 0.7390 - val_loss: 0.7036 - learning_rate: 8.1873e-04\n",
      "Epoch 8/10\n",
      "\u001b[1m45/45\u001b[0m \u001b[32m━━━━━━━━━━━━━━━━━━━━\u001b[0m\u001b[37m\u001b[0m \u001b[1m162s\u001b[0m 4s/step - accuracy: 0.7738 - loss: 0.5850 - val_accuracy: 0.7742 - val_loss: 0.6062 - learning_rate: 7.4082e-04\n",
      "Epoch 9/10\n",
      "\u001b[1m45/45\u001b[0m \u001b[32m━━━━━━━━━━━━━━━━━━━━\u001b[0m\u001b[37m\u001b[0m \u001b[1m163s\u001b[0m 4s/step - accuracy: 0.7725 - loss: 0.5638 - val_accuracy: 0.7713 - val_loss: 0.5954 - learning_rate: 6.7032e-04\n",
      "Epoch 10/10\n",
      "\u001b[1m45/45\u001b[0m \u001b[32m━━━━━━━━━━━━━━━━━━━━\u001b[0m\u001b[37m\u001b[0m \u001b[1m162s\u001b[0m 4s/step - accuracy: 0.7949 - loss: 0.5108 - val_accuracy: 0.8035 - val_loss: 0.5800 - learning_rate: 6.0653e-04\n",
      "Restoring model weights from the end of the best epoch: 10.\n"
     ]
    },
    {
     "data": {
      "text/plain": [
       "<keras.src.callbacks.history.History at 0x12ebe591850>"
      ]
     },
     "execution_count": 21,
     "metadata": {},
     "output_type": "execute_result"
    }
   ],
   "source": [
    "# Crear el modelo completo\n",
    "model = Model(inputs=base_model.input, outputs=predictions)\n",
    "\n",
    "# Compilar el modelo\n",
    "model.compile(optimizer=Adam(), loss='sparse_categorical_crossentropy', metrics=['accuracy'])\n",
    "\n",
    "# Entrenar el modelo con los callbacks\n",
    "model.fit(\n",
    "    X_train_res, \n",
    "    y_train_res, \n",
    "    epochs=10, \n",
    "    validation_data=(X_test, y_test),\n",
    "    callbacks=[early_stopping, lr_scheduler]  # Agregar los callbacks aquí\n",
    ")\n"
   ]
  },
  {
   "cell_type": "code",
   "execution_count": 22,
   "id": "ff91eafe",
   "metadata": {},
   "outputs": [
    {
     "name": "stdout",
     "output_type": "stream",
     "text": [
      "\u001b[1m11/11\u001b[0m \u001b[32m━━━━━━━━━━━━━━━━━━━━\u001b[0m\u001b[37m\u001b[0m \u001b[1m32s\u001b[0m 3s/step\n",
      "Precision: 0.8261583676992222\n",
      "Recall: 0.8035190615835777\n",
      "F1 Score: 0.8081798628672745\n",
      "Accuracy: 0.8035190615835777\n",
      "Classification Report:\n",
      "                 precision    recall  f1-score   support\n",
      "\n",
      "         Basket       0.61      0.85      0.71        74\n",
      "   Campo_Futbol       0.95      0.86      0.90        84\n",
      "Cancha_Multiple       0.69      0.60      0.64        57\n",
      "         Parque       0.97      0.82      0.89        68\n",
      "          Tenis       0.89      0.84      0.87        58\n",
      "\n",
      "       accuracy                           0.80       341\n",
      "      macro avg       0.82      0.79      0.80       341\n",
      "   weighted avg       0.83      0.80      0.81       341\n",
      "\n"
     ]
    }
   ],
   "source": [
    "from sklearn.metrics import classification_report, accuracy_score, f1_score, precision_score, recall_score\n",
    "\n",
    "# Evaluar el modelo\n",
    "y_pred_prob = model.predict(X_test)\n",
    "y_pred = np.argmax(y_pred_prob, axis=1)\n",
    "\n",
    "# Calcular las métricas\n",
    "precision = precision_score(y_test, y_pred, average='weighted')\n",
    "recall = recall_score(y_test, y_pred, average='weighted')\n",
    "f1 = f1_score(y_test, y_pred, average='weighted')\n",
    "accuracy = accuracy_score(y_test, y_pred)\n",
    "\n",
    "print(f\"Precision: {precision}\")\n",
    "print(f\"Recall: {recall}\")\n",
    "print(f\"F1 Score: {f1}\")\n",
    "print(f\"Accuracy: {accuracy}\")\n",
    "\n",
    "# Obtener un informe detallado de clasificación\n",
    "print(\"Classification Report:\")\n",
    "print(classification_report(y_test, y_pred, target_names=['Basket', 'Campo_Futbol', 'Cancha_Multiple', 'Parque', 'Tenis']))"
   ]
  },
  {
   "cell_type": "code",
   "execution_count": 23,
   "id": "94e276ea",
   "metadata": {},
   "outputs": [
    {
     "name": "stderr",
     "output_type": "stream",
     "text": [
      "WARNING:absl:You are saving your model as an HDF5 file via `model.save()` or `keras.saving.save_model(model)`. This file format is considered legacy. We recommend using instead the native Keras format, e.g. `model.save('my_model.keras')` or `keras.saving.save_model(model, 'my_model.keras')`. \n"
     ]
    }
   ],
   "source": [
    "from tensorflow.keras.models import load_model\n",
    "\n",
    "# Supongamos que `model` es tu modelo entrenado\n",
    "model.save('C:/Users/nicol/Desktop/PropioCopy_Xception.h5')"
   ]
  },
  {
   "cell_type": "markdown",
   "id": "de4a0543",
   "metadata": {},
   "source": [
    "# Entrenamiento con MobileNet Preentrenado con Imagenet"
   ]
  },
  {
   "cell_type": "code",
   "execution_count": 36,
   "id": "aff94c54",
   "metadata": {},
   "outputs": [],
   "source": [
    "import torch\n",
    "import torch.nn as nn\n",
    "import torch.optim as optim\n",
    "from torchvision import datasets, models, transforms\n",
    "from torch.utils.data import DataLoader, Dataset\n",
    "from sklearn.metrics import accuracy_score\n",
    "\n",
    "# Configuraciones\n",
    "device = torch.device(\"cuda\" if torch.cuda.is_available() else \"cpu\")\n",
    "num_epochs = 10\n",
    "batch_size = 32\n",
    "learning_rate = 0.01\n",
    "\n",
    "class CustomDataset(Dataset):\n",
    "    def __init__(self, images, labels, transform=None):\n",
    "        self.images = images\n",
    "        self.labels = labels\n",
    "        self.transform = transform\n",
    "\n",
    "    def __len__(self):\n",
    "        return len(self.images)\n",
    "\n",
    "    def __getitem__(self, idx):\n",
    "        image = self.images[idx]\n",
    "        label = self.labels[idx]\n",
    "        if self.transform:\n",
    "            image = self.transform(image)\n",
    "        return image, label\n",
    "\n",
    "# Definir transformaciones (si no lo hiciste en tu preprocesamiento)\n",
    "transform = transforms.Compose([\n",
    "    transforms.ToPILImage(),  # Convertir de numpy array a PIL image\n",
    "    transforms.ToTensor(),  # Convertir de PIL image a tensor\n",
    "])\n",
    "\n",
    "# Convertir las etiquetas a LongTensor\n",
    "train_dataset = CustomDataset(X_train_res, y_train_res.astype(int), transform=transform)\n",
    "test_dataset = CustomDataset(X_test, y_test.astype(int), transform=transform)\n",
    "\n",
    "trainloader = DataLoader(train_dataset, batch_size=batch_size, shuffle=True)\n",
    "testloader = DataLoader(test_dataset, batch_size=batch_size, shuffle=False)\n"
   ]
  },
  {
   "cell_type": "code",
   "execution_count": 37,
   "id": "83a7f4cc",
   "metadata": {},
   "outputs": [],
   "source": [
    "# Cargar el modelo MobileNet preentrenado\n",
    "model = models.mobilenet_v2(pretrained=True)\n",
    "\n",
    "# Reemplazar la última capa del modelo para adaptarse a nuestro número de clases (6 en este caso)\n",
    "model.classifier[1] = nn.Linear(model.classifier[1].in_features, 5)\n",
    "\n",
    "model = model.to(device)"
   ]
  },
  {
   "cell_type": "code",
   "execution_count": 38,
   "id": "38d627ee",
   "metadata": {},
   "outputs": [],
   "source": [
    "# Definir la función de pérdida y el optimizador\n",
    "criterion = nn.CrossEntropyLoss()\n",
    "optimizer = optim.Adam(model.parameters(), lr=learning_rate)\n",
    "scheduler = optim.lr_scheduler.ReduceLROnPlateau(optimizer, mode='min', factor=0.1, patience=2, verbose=True)\n",
    "\n",
    "# Early stopping variables\n",
    "best_loss = np.Inf\n",
    "epochs_no_improve = 0\n",
    "early_stop = False"
   ]
  },
  {
   "cell_type": "code",
   "execution_count": 39,
   "id": "cebf40ba",
   "metadata": {},
   "outputs": [
    {
     "name": "stdout",
     "output_type": "stream",
     "text": [
      "Epoch 1, Loss: 2.1254162814882065\n",
      "Validation Loss: 11.323836499994451\n",
      "Epoch 2, Loss: 1.4485477368036905\n",
      "Validation Loss: 1.3214464295994153\n",
      "Epoch 3, Loss: 1.285285602675544\n",
      "Validation Loss: 1.219642693346197\n",
      "Epoch 4, Loss: 1.2163973053296406\n",
      "Validation Loss: 2.327331467108293\n",
      "Epoch 5, Loss: 1.1259069098366632\n",
      "Validation Loss: 1.349635194648396\n",
      "Epoch 6, Loss: 1.044182476732466\n",
      "Validation Loss: 1.4087301059202715\n",
      "Early stopping triggered\n"
     ]
    }
   ],
   "source": [
    "# Entrenamiento del modelo\n",
    "for epoch in range(num_epochs):\n",
    "    model.train()\n",
    "    running_loss = 0.0\n",
    "    \n",
    "    for inputs, labels in trainloader:\n",
    "        inputs, labels = inputs.to(device), labels.to(device, dtype=torch.long)\n",
    "        \n",
    "        optimizer.zero_grad()  # Limpiar gradientes\n",
    "        \n",
    "        outputs = model(inputs)  # Forward pass\n",
    "        loss = criterion(outputs, labels)  # Calcular pérdida\n",
    "        loss.backward()  # Backward pass\n",
    "        optimizer.step()  # Actualizar pesos\n",
    "        \n",
    "        running_loss += loss.item()\n",
    "    \n",
    "    # Calcular la pérdida media\n",
    "    epoch_loss = running_loss / len(trainloader)\n",
    "    print(f'Epoch {epoch+1}, Loss: {epoch_loss}')\n",
    "    \n",
    "    # Validación\n",
    "    model.eval()\n",
    "    val_loss = 0.0\n",
    "    with torch.no_grad():\n",
    "        for inputs, labels in testloader:\n",
    "            inputs, labels = inputs.to(device), labels.to(device, dtype=torch.long)\n",
    "            outputs = model(inputs)\n",
    "            loss = criterion(outputs, labels)\n",
    "            val_loss += loss.item()\n",
    "    \n",
    "    val_loss /= len(testloader)\n",
    "    print(f'Validation Loss: {val_loss}')\n",
    "    \n",
    "    # Scheduler\n",
    "    scheduler.step(val_loss)\n",
    "    \n",
    "    # Early Stopping\n",
    "    if val_loss < best_loss:\n",
    "        best_loss = val_loss\n",
    "        epochs_no_improve = 0\n",
    "    else:\n",
    "        epochs_no_improve += 1\n",
    "    \n",
    "    if epochs_no_improve >= patience:\n",
    "        print('Early stopping triggered')\n",
    "        early_stop = True\n",
    "        break\n",
    "\n",
    "    if early_stop:\n",
    "        break\n"
   ]
  },
  {
   "cell_type": "code",
   "execution_count": 40,
   "id": "e5410071",
   "metadata": {},
   "outputs": [
    {
     "name": "stdout",
     "output_type": "stream",
     "text": [
      "Accuracy: 48.09384%\n",
      "Precision: 0.56624\n",
      "Recall: 0.48094\n",
      "F1 Score: 0.45996\n"
     ]
    }
   ],
   "source": [
    "from sklearn.metrics import precision_score, recall_score, f1_score, accuracy_score\n",
    "\n",
    "model.eval()  # Modo de evaluación\n",
    "\n",
    "all_labels = []\n",
    "all_preds = []\n",
    "\n",
    "with torch.no_grad():\n",
    "    for inputs, labels in testloader:\n",
    "        inputs, labels = inputs.to(device), labels.to(device)\n",
    "        outputs = model(inputs)\n",
    "        _, predicted = torch.max(outputs, 1)\n",
    "\n",
    "        all_labels.extend(labels.cpu().numpy())  # Mover los datos a la CPU y agregarlos a la lista\n",
    "        all_preds.extend(predicted.cpu().numpy())  # Mover los datos a la CPU y agregarlos a la lista\n",
    "\n",
    "# Calcular las métricas\n",
    "accuracy = accuracy_score(all_labels, all_preds)\n",
    "precision = precision_score(all_labels, all_preds, average='weighted')\n",
    "recall = recall_score(all_labels, all_preds, average='weighted')\n",
    "f1 = f1_score(all_labels, all_preds, average='weighted')\n",
    "\n",
    "print(f'Accuracy: {accuracy * 100:.5f}%')\n",
    "print(f'Precision: {precision:.5f}')\n",
    "print(f'Recall: {recall:.5f}')\n",
    "print(f'F1 Score: {f1:.5f}')"
   ]
  },
  {
   "cell_type": "markdown",
   "id": "a6363c07",
   "metadata": {},
   "source": [
    "# Otros"
   ]
  },
  {
   "cell_type": "code",
   "execution_count": 11,
   "id": "689678d7",
   "metadata": {},
   "outputs": [
    {
     "name": "stderr",
     "output_type": "stream",
     "text": [
      "c:\\Users\\nicol\\anaconda3\\lib\\site-packages\\torchvision\\models\\_utils.py:223: UserWarning: Arguments other than a weight enum or `None` for 'weights' are deprecated since 0.13 and may be removed in the future. The current behavior is equivalent to passing `weights=MobileNet_V2_Weights.IMAGENET1K_V1`. You can also use `weights=MobileNet_V2_Weights.DEFAULT` to get the most up-to-date weights.\n",
      "  warnings.warn(msg)\n"
     ]
    },
    {
     "ename": "KeyboardInterrupt",
     "evalue": "",
     "output_type": "error",
     "traceback": [
      "\u001b[1;31m---------------------------------------------------------------------------\u001b[0m",
      "\u001b[1;31mKeyboardInterrupt\u001b[0m                         Traceback (most recent call last)",
      "\u001b[1;32m~\\AppData\\Local\\Temp\\ipykernel_16864\\714192555.py\u001b[0m in \u001b[0;36m<module>\u001b[1;34m\u001b[0m\n\u001b[0;32m     67\u001b[0m         \u001b[0moutputs\u001b[0m \u001b[1;33m=\u001b[0m \u001b[0mmodel\u001b[0m\u001b[1;33m(\u001b[0m\u001b[0minputs\u001b[0m\u001b[1;33m)\u001b[0m  \u001b[1;31m# Forward pass\u001b[0m\u001b[1;33m\u001b[0m\u001b[1;33m\u001b[0m\u001b[0m\n\u001b[0;32m     68\u001b[0m         \u001b[0mloss\u001b[0m \u001b[1;33m=\u001b[0m \u001b[0mcriterion\u001b[0m\u001b[1;33m(\u001b[0m\u001b[0moutputs\u001b[0m\u001b[1;33m,\u001b[0m \u001b[0mlabels\u001b[0m\u001b[1;33m)\u001b[0m  \u001b[1;31m# Calcular pérdida\u001b[0m\u001b[1;33m\u001b[0m\u001b[1;33m\u001b[0m\u001b[0m\n\u001b[1;32m---> 69\u001b[1;33m         \u001b[0mloss\u001b[0m\u001b[1;33m.\u001b[0m\u001b[0mbackward\u001b[0m\u001b[1;33m(\u001b[0m\u001b[1;33m)\u001b[0m  \u001b[1;31m# Backward pass\u001b[0m\u001b[1;33m\u001b[0m\u001b[1;33m\u001b[0m\u001b[0m\n\u001b[0m\u001b[0;32m     70\u001b[0m         \u001b[0moptimizer\u001b[0m\u001b[1;33m.\u001b[0m\u001b[0mstep\u001b[0m\u001b[1;33m(\u001b[0m\u001b[1;33m)\u001b[0m  \u001b[1;31m# Actualizar pesos\u001b[0m\u001b[1;33m\u001b[0m\u001b[1;33m\u001b[0m\u001b[0m\n\u001b[0;32m     71\u001b[0m \u001b[1;33m\u001b[0m\u001b[0m\n",
      "\u001b[1;32mc:\\Users\\nicol\\anaconda3\\lib\\site-packages\\torch\\_tensor.py\u001b[0m in \u001b[0;36mbackward\u001b[1;34m(self, gradient, retain_graph, create_graph, inputs)\u001b[0m\n\u001b[0;32m    519\u001b[0m                 \u001b[0minputs\u001b[0m\u001b[1;33m=\u001b[0m\u001b[0minputs\u001b[0m\u001b[1;33m,\u001b[0m\u001b[1;33m\u001b[0m\u001b[1;33m\u001b[0m\u001b[0m\n\u001b[0;32m    520\u001b[0m             )\n\u001b[1;32m--> 521\u001b[1;33m         torch.autograd.backward(\n\u001b[0m\u001b[0;32m    522\u001b[0m             \u001b[0mself\u001b[0m\u001b[1;33m,\u001b[0m \u001b[0mgradient\u001b[0m\u001b[1;33m,\u001b[0m \u001b[0mretain_graph\u001b[0m\u001b[1;33m,\u001b[0m \u001b[0mcreate_graph\u001b[0m\u001b[1;33m,\u001b[0m \u001b[0minputs\u001b[0m\u001b[1;33m=\u001b[0m\u001b[0minputs\u001b[0m\u001b[1;33m\u001b[0m\u001b[1;33m\u001b[0m\u001b[0m\n\u001b[0;32m    523\u001b[0m         )\n",
      "\u001b[1;32mc:\\Users\\nicol\\anaconda3\\lib\\site-packages\\torch\\autograd\\__init__.py\u001b[0m in \u001b[0;36mbackward\u001b[1;34m(tensors, grad_tensors, retain_graph, create_graph, grad_variables, inputs)\u001b[0m\n\u001b[0;32m    287\u001b[0m     \u001b[1;31m# some Python versions print out the first line of a multi-line function\u001b[0m\u001b[1;33m\u001b[0m\u001b[1;33m\u001b[0m\u001b[0m\n\u001b[0;32m    288\u001b[0m     \u001b[1;31m# calls in the traceback and some print out the last line\u001b[0m\u001b[1;33m\u001b[0m\u001b[1;33m\u001b[0m\u001b[0m\n\u001b[1;32m--> 289\u001b[1;33m     _engine_run_backward(\n\u001b[0m\u001b[0;32m    290\u001b[0m         \u001b[0mtensors\u001b[0m\u001b[1;33m,\u001b[0m\u001b[1;33m\u001b[0m\u001b[1;33m\u001b[0m\u001b[0m\n\u001b[0;32m    291\u001b[0m         \u001b[0mgrad_tensors_\u001b[0m\u001b[1;33m,\u001b[0m\u001b[1;33m\u001b[0m\u001b[1;33m\u001b[0m\u001b[0m\n",
      "\u001b[1;32mc:\\Users\\nicol\\anaconda3\\lib\\site-packages\\torch\\autograd\\graph.py\u001b[0m in \u001b[0;36m_engine_run_backward\u001b[1;34m(t_outputs, *args, **kwargs)\u001b[0m\n\u001b[0;32m    766\u001b[0m         \u001b[0munregister_hooks\u001b[0m \u001b[1;33m=\u001b[0m \u001b[0m_register_logging_hooks_on_whole_graph\u001b[0m\u001b[1;33m(\u001b[0m\u001b[0mt_outputs\u001b[0m\u001b[1;33m)\u001b[0m\u001b[1;33m\u001b[0m\u001b[1;33m\u001b[0m\u001b[0m\n\u001b[0;32m    767\u001b[0m     \u001b[1;32mtry\u001b[0m\u001b[1;33m:\u001b[0m\u001b[1;33m\u001b[0m\u001b[1;33m\u001b[0m\u001b[0m\n\u001b[1;32m--> 768\u001b[1;33m         return Variable._execution_engine.run_backward(  # Calls into the C++ engine to run the backward pass\n\u001b[0m\u001b[0;32m    769\u001b[0m             \u001b[0mt_outputs\u001b[0m\u001b[1;33m,\u001b[0m \u001b[1;33m*\u001b[0m\u001b[0margs\u001b[0m\u001b[1;33m,\u001b[0m \u001b[1;33m**\u001b[0m\u001b[0mkwargs\u001b[0m\u001b[1;33m\u001b[0m\u001b[1;33m\u001b[0m\u001b[0m\n\u001b[0;32m    770\u001b[0m         )  # Calls into the C++ engine to run the backward pass\n",
      "\u001b[1;31mKeyboardInterrupt\u001b[0m: "
     ]
    }
   ],
   "source": [
    "import torch\n",
    "import torch.nn as nn\n",
    "import torch.optim as optim\n",
    "from torchvision import datasets, models, transforms\n",
    "from torch.utils.data import DataLoader, Dataset\n",
    "from sklearn.metrics import accuracy_score, precision_score, recall_score, f1_score\n",
    "from torch.optim.lr_scheduler import ReduceLROnPlateau\n",
    "\n",
    "# Configuraciones\n",
    "device = torch.device(\"cuda\" if torch.cuda.is_available() else \"cpu\")\n",
    "num_epochs = 15\n",
    "batch_size = 32\n",
    "learning_rate = 0.001\n",
    "\n",
    "class CustomDataset(Dataset):\n",
    "    def __init__(self, images, labels, transform=None):\n",
    "        self.images = images\n",
    "        self.labels = labels\n",
    "        self.transform = transform\n",
    "\n",
    "    def __len__(self):\n",
    "        return len(self.images)\n",
    "\n",
    "    def __getitem__(self, idx):\n",
    "        image = self.images[idx]\n",
    "        label = self.labels[idx]\n",
    "        if self.transform:\n",
    "            image = self.transform(image)\n",
    "        return image, label\n",
    "\n",
    "transform = transforms.Compose([\n",
    "    transforms.ToPILImage(),  # Convertir de numpy array a PIL image\n",
    "    transforms.ToTensor(),  # Convertir de PIL image a tensor\n",
    "])\n",
    "\n",
    "# Convertir las etiquetas a LongTensor\n",
    "train_dataset = CustomDataset(X_train_res, y_train_res.astype(int), transform=transform)\n",
    "test_dataset = CustomDataset(X_test, y_test.astype(int), transform=transform)\n",
    "\n",
    "trainloader = DataLoader(train_dataset, batch_size=batch_size, shuffle=True)\n",
    "testloader = DataLoader(test_dataset, batch_size=batch_size, shuffle=False)\n",
    "\n",
    "# Cargar el modelo MobileNet preentrenado\n",
    "model = models.mobilenet_v2(pretrained=True)\n",
    "\n",
    "# Reemplazar la última capa del modelo para adaptarse a nuestro número de clases\n",
    "model.classifier[1] = nn.Linear(model.classifier[1].in_features, 5)\n",
    "\n",
    "model = model.to(device)\n",
    "\n",
    "# Definir la función de pérdida y el optimizador\n",
    "criterion = nn.CrossEntropyLoss()\n",
    "optimizer = optim.Adam(model.parameters(), lr=learning_rate)\n",
    "\n",
    "# Definir el scheduler para reducir la tasa de aprendizaje\n",
    "scheduler = ReduceLROnPlateau(optimizer, 'min', patience=2, factor=0.5)\n",
    "\n",
    "# Entrenamiento del modelo\n",
    "for epoch in range(num_epochs):\n",
    "    model.train()\n",
    "    running_loss = 0.0\n",
    "    for inputs, labels in trainloader:\n",
    "        inputs, labels = inputs.to(device), labels.to(device, dtype=torch.long)\n",
    "        \n",
    "        optimizer.zero_grad()  # Limpiar gradientes\n",
    "        \n",
    "        outputs = model(inputs)  # Forward pass\n",
    "        loss = criterion(outputs, labels)  # Calcular pérdida\n",
    "        loss.backward()  # Backward pass\n",
    "        optimizer.step()  # Actualizar pesos\n",
    "        \n",
    "        running_loss += loss.item()\n",
    "    \n",
    "    # Ajustar la tasa de aprendizaje\n",
    "    scheduler.step(running_loss / len(trainloader))\n",
    "    \n",
    "    print(f'Epoch {epoch+1}, Loss: {running_loss/len(trainloader)}')\n",
    "\n",
    "# Evaluación del modelo\n",
    "model.eval()  # Modo de evaluación\n",
    "\n",
    "all_labels = []\n",
    "all_preds = []\n",
    "\n",
    "with torch.no_grad():\n",
    "    for inputs, labels in testloader:\n",
    "        inputs, labels = inputs.to(device), labels.to(device)\n",
    "        outputs = model(inputs)\n",
    "        _, predicted = torch.max(outputs, 1)\n",
    "\n",
    "        all_labels.extend(labels.cpu().numpy())  # Mover los datos a la CPU y agregarlos a la lista\n",
    "        all_preds.extend(predicted.cpu().numpy())  # Mover los datos a la CPU y agregarlos a la lista\n",
    "\n",
    "# Calcular las métricas\n",
    "accuracy = accuracy_score(all_labels, all_preds)\n",
    "precision = precision_score(all_labels, all_preds, average='weighted')\n",
    "recall = recall_score(all_labels, all_preds, average='weighted')\n",
    "f1 = f1_score(all_labels, all_preds, average='weighted')\n",
    "\n",
    "print(f'Accuracy: {accuracy * 100:.5f}%')\n",
    "print(f'Precision: {precision:.5f}')\n",
    "print(f'Recall: {recall:.5f}')\n",
    "print(f'F1 Score: {f1:.5f}')\n"
   ]
  },
  {
   "cell_type": "code",
   "execution_count": 42,
   "id": "d3425eaa",
   "metadata": {},
   "outputs": [],
   "source": [
    "# Guardar el modelo completo\n",
    "torch.save(model, 'C:/Users/nicol/Desktop/PropioCopy_mobileNET.pth')"
   ]
  },
  {
   "cell_type": "code",
   "execution_count": 13,
   "id": "ec7dbe24",
   "metadata": {},
   "outputs": [
    {
     "name": "stdout",
     "output_type": "stream",
     "text": [
      "Epoch 1, Loss: 1.0683564835124546\n",
      "Epoch 2, Loss: 0.516846874025133\n",
      "Epoch 3, Loss: 0.2910675976011488\n",
      "Epoch 4, Loss: 0.27204339421457713\n",
      "Epoch 5, Loss: 0.1832970770696799\n",
      "Epoch 6, Loss: 0.16047468206120863\n",
      "Epoch 7, Loss: 0.1485070678508944\n",
      "Epoch 8, Loss: 0.08297805174046921\n",
      "Epoch 9, Loss: 0.04863308243867424\n",
      "Epoch 10, Loss: 0.1457754095809327\n",
      "Epoch 11, Loss: 0.07167434272252851\n",
      "Epoch 12, Loss: 0.03701796089816425\n",
      "Epoch 13, Loss: 0.028362411774125778\n",
      "Epoch 14, Loss: 0.05954135700077232\n",
      "Epoch 15, Loss: 0.0852043794778486\n",
      "Accuracy: 88.56305%\n",
      "Precision: 0.88980\n",
      "Recall: 0.88563\n",
      "F1 Score: 0.88676\n"
     ]
    }
   ],
   "source": [
    "import torch\n",
    "import torch.nn as nn\n",
    "import torch.optim as optim\n",
    "from torchvision import datasets, models, transforms\n",
    "from torch.utils.data import DataLoader, Dataset\n",
    "from sklearn.metrics import accuracy_score, precision_score, recall_score, f1_score\n",
    "from torch.optim.lr_scheduler import ReduceLROnPlateau\n",
    "\n",
    "# Configuraciones\n",
    "device = torch.device(\"cuda\" if torch.cuda.is_available() else \"cpu\")\n",
    "num_epochs = 15\n",
    "batch_size = 32\n",
    "learning_rate = 0.001\n",
    "\n",
    "class CustomDataset(Dataset):\n",
    "    def __init__(self, images, labels, transform=None):\n",
    "        self.images = images\n",
    "        self.labels = labels\n",
    "        self.transform = transform\n",
    "\n",
    "    def __len__(self):\n",
    "        return len(self.images)\n",
    "\n",
    "    def __getitem__(self, idx):\n",
    "        image = self.images[idx]\n",
    "        label = self.labels[idx]\n",
    "        if self.transform:\n",
    "            image = self.transform(image)\n",
    "        return image, label\n",
    "\n",
    "transform = transforms.Compose([\n",
    "    transforms.ToPILImage(),  # Convertir de numpy array a PIL image\n",
    "    transforms.ToTensor(),  # Convertir de PIL image a tensor\n",
    "])\n",
    "\n",
    "# Convertir las etiquetas a LongTensor\n",
    "train_dataset = CustomDataset(X_train_res, y_train_res.astype(int), transform=transform)\n",
    "test_dataset = CustomDataset(X_test, y_test.astype(int), transform=transform)\n",
    "\n",
    "trainloader = DataLoader(train_dataset, batch_size=batch_size, shuffle=True)\n",
    "testloader = DataLoader(test_dataset, batch_size=batch_size, shuffle=False)\n",
    "\n",
    "# Cargar el modelo MobileNet preentrenado\n",
    "model = models.resnet18(pretrained=True)\n",
    "\n",
    "# Reemplazar la última capa del modelo para adaptarse a nuestro número de clases\n",
    "model.fc = nn.Linear(model.fc.in_features, 5)\n",
    "\n",
    "model = model.to(device)\n",
    "\n",
    "# Definir la función de pérdida y el optimizador\n",
    "criterion = nn.CrossEntropyLoss()\n",
    "optimizer = optim.Adam(model.parameters(), lr=learning_rate)\n",
    "\n",
    "# Definir el scheduler para reducir la tasa de aprendizaje\n",
    "scheduler = ReduceLROnPlateau(optimizer, 'min', patience=2, factor=0.5)\n",
    "\n",
    "# Entrenamiento del modelo\n",
    "for epoch in range(num_epochs):\n",
    "    model.train()\n",
    "    running_loss = 0.0\n",
    "    for inputs, labels in trainloader:\n",
    "        inputs, labels = inputs.to(device), labels.to(device, dtype=torch.long)\n",
    "        \n",
    "        optimizer.zero_grad()  # Limpiar gradientes\n",
    "        \n",
    "        outputs = model(inputs)  # Forward pass\n",
    "        loss = criterion(outputs, labels)  # Calcular pérdida\n",
    "        loss.backward()  # Backward pass\n",
    "        optimizer.step()  # Actualizar pesos\n",
    "        \n",
    "        running_loss += loss.item()\n",
    "    \n",
    "    # Ajustar la tasa de aprendizaje\n",
    "    scheduler.step(running_loss / len(trainloader))\n",
    "    \n",
    "    print(f'Epoch {epoch+1}, Loss: {running_loss/len(trainloader)}')\n",
    "\n",
    "# Evaluación del modelo\n",
    "model.eval()  # Modo de evaluación\n",
    "\n",
    "all_labels = []\n",
    "all_preds = []\n",
    "\n",
    "with torch.no_grad():\n",
    "    for inputs, labels in testloader:\n",
    "        inputs, labels = inputs.to(device), labels.to(device)\n",
    "        outputs = model(inputs)\n",
    "        _, predicted = torch.max(outputs, 1)\n",
    "\n",
    "        all_labels.extend(labels.cpu().numpy())  # Mover los datos a la CPU y agregarlos a la lista\n",
    "        all_preds.extend(predicted.cpu().numpy())  # Mover los datos a la CPU y agregarlos a la lista\n",
    "\n",
    "# Calcular las métricas\n",
    "accuracy = accuracy_score(all_labels, all_preds)\n",
    "precision = precision_score(all_labels, all_preds, average='weighted')\n",
    "recall = recall_score(all_labels, all_preds, average='weighted')\n",
    "f1 = f1_score(all_labels, all_preds, average='weighted')\n",
    "\n",
    "print(f'Accuracy: {accuracy * 100:.5f}%')\n",
    "print(f'Precision: {precision:.5f}')\n",
    "print(f'Recall: {recall:.5f}')\n",
    "print(f'F1 Score: {f1:.5f}')\n",
    "\n",
    "# Guardar el modelo completo\n",
    "torch.save(model, 'C:/Users/nicol/Desktop/PropioCopy_Resnet18.pth')"
   ]
  },
  {
   "cell_type": "code",
   "execution_count": 16,
   "id": "c23da3d5",
   "metadata": {},
   "outputs": [],
   "source": [
    "import torch\n",
    "from sklearn.metrics import classification_report, accuracy_score, f1_score, precision_score, recall_score\n",
    "\n",
    "# Asegúrate de que el modelo esté en modo de evaluación\n",
    "model.eval()\n",
    "\n",
    "# Si `X_test` es una lista de imágenes, conviértelo en un tensor y transfiérelo a la GPU si es necesario\n",
    "imagenes_tensor = torch.tensor(X_test).permute(0, 3, 1, 2).type(torch.float32).to(device)\n",
    "\n",
    "# Desactivar el cálculo de gradientes para la evaluación\n",
    "with torch.no_grad():\n",
    "    y_pred_prob = model(imagenes_tensor)\n",
    "    y_pred = torch.argmax(y_pred_prob, dim=1).cpu().numpy()  # Convertir las predicciones a numpy array\n",
    "\n",
    "# `y_test` debe estar en la CPU como un numpy array\n",
    "y_test = y_test.cpu().numpy() if torch.is_tensor(y_test) else y_test\n"
   ]
  },
  {
   "cell_type": "code",
   "execution_count": 17,
   "id": "c26d712d",
   "metadata": {},
   "outputs": [
    {
     "name": "stdout",
     "output_type": "stream",
     "text": [
      "Precision: 0.44899953371610124\n",
      "Recall: 0.4604105571847507\n",
      "F1 Score: 0.3863449617632231\n",
      "Accuracy: 0.4604105571847507\n",
      "Classification Report:\n",
      "                 precision    recall  f1-score   support\n",
      "\n",
      "         Basket       0.30      0.84      0.44        74\n",
      "   Campo_Futbol       0.66      0.71      0.69        84\n",
      "Cancha_Multiple       0.50      0.02      0.03        57\n",
      "         Parque       0.00      0.00      0.00        68\n",
      "          Tenis       0.81      0.59      0.68        58\n",
      "\n",
      "       accuracy                           0.46       341\n",
      "      macro avg       0.45      0.43      0.37       341\n",
      "   weighted avg       0.45      0.46      0.39       341\n",
      "\n"
     ]
    },
    {
     "name": "stderr",
     "output_type": "stream",
     "text": [
      "c:\\Users\\nicol\\anaconda3\\lib\\site-packages\\sklearn\\metrics\\_classification.py:1509: UndefinedMetricWarning: Precision is ill-defined and being set to 0.0 in labels with no predicted samples. Use `zero_division` parameter to control this behavior.\n",
      "  _warn_prf(average, modifier, f\"{metric.capitalize()} is\", len(result))\n",
      "c:\\Users\\nicol\\anaconda3\\lib\\site-packages\\sklearn\\metrics\\_classification.py:1509: UndefinedMetricWarning: Precision is ill-defined and being set to 0.0 in labels with no predicted samples. Use `zero_division` parameter to control this behavior.\n",
      "  _warn_prf(average, modifier, f\"{metric.capitalize()} is\", len(result))\n",
      "c:\\Users\\nicol\\anaconda3\\lib\\site-packages\\sklearn\\metrics\\_classification.py:1509: UndefinedMetricWarning: Precision is ill-defined and being set to 0.0 in labels with no predicted samples. Use `zero_division` parameter to control this behavior.\n",
      "  _warn_prf(average, modifier, f\"{metric.capitalize()} is\", len(result))\n",
      "c:\\Users\\nicol\\anaconda3\\lib\\site-packages\\sklearn\\metrics\\_classification.py:1509: UndefinedMetricWarning: Precision is ill-defined and being set to 0.0 in labels with no predicted samples. Use `zero_division` parameter to control this behavior.\n",
      "  _warn_prf(average, modifier, f\"{metric.capitalize()} is\", len(result))\n"
     ]
    }
   ],
   "source": [
    "# Calcular las métricas\n",
    "precision = precision_score(y_test, y_pred, average='weighted')\n",
    "recall = recall_score(y_test, y_pred, average='weighted')\n",
    "f1 = f1_score(y_test, y_pred, average='weighted')\n",
    "accuracy = accuracy_score(y_test, y_pred)\n",
    "\n",
    "print(f\"Precision: {precision}\")\n",
    "print(f\"Recall: {recall}\")\n",
    "print(f\"F1 Score: {f1}\")\n",
    "print(f\"Accuracy: {accuracy}\")\n",
    "\n",
    "# Obtener un informe detallado de clasificación\n",
    "print(\"Classification Report:\")\n",
    "print(classification_report(y_test, y_pred, target_names=['Basket', 'Campo_Futbol', 'Cancha_Multiple', 'Parque', 'Tenis']))\n"
   ]
  }
 ],
 "metadata": {
  "kernelspec": {
   "display_name": "Python 3 (ipykernel)",
   "language": "python",
   "name": "python3"
  },
  "language_info": {
   "codemirror_mode": {
    "name": "ipython",
    "version": 3
   },
   "file_extension": ".py",
   "mimetype": "text/x-python",
   "name": "python",
   "nbconvert_exporter": "python",
   "pygments_lexer": "ipython3",
   "version": "3.9.13"
  }
 },
 "nbformat": 4,
 "nbformat_minor": 5
}
