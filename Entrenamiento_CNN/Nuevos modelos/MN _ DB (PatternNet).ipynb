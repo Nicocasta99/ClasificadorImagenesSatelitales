{
 "cells": [
  {
   "cell_type": "markdown",
   "id": "e0f7f7f4",
   "metadata": {},
   "source": [
    "# Cargue y preentrenamiento de datos"
   ]
  },
  {
   "cell_type": "code",
   "execution_count": 1,
   "id": "b42337ae",
   "metadata": {},
   "outputs": [],
   "source": [
    "Etiquetas_Nombres = ['baseball_field', 'basketball_court', 'football_field', 'golf_course', 'tennis_court']"
   ]
  },
  {
   "cell_type": "code",
   "execution_count": 2,
   "id": "195c262c",
   "metadata": {},
   "outputs": [],
   "source": [
    "import os\n",
    "from PIL import Image\n",
    "import numpy as np\n",
    "from sklearn.model_selection import train_test_split\n",
    "from imblearn.over_sampling import RandomOverSampler\n",
    "\n",
    "def cargar_imagenes_con_etiquetas(ruta_dataset):\n",
    "    imagenes = []\n",
    "    etiquetas = []\n",
    "    \n",
    "    for etiqueta in os.listdir(ruta_dataset):\n",
    "        carpeta = os.path.join(ruta_dataset, etiqueta)\n",
    "        if os.path.isdir(carpeta):\n",
    "            for archivo in os.listdir(carpeta):\n",
    "                if archivo.endswith('.tif') or archivo.endswith('.png') or archivo.endswith('.jpg'):\n",
    "                    img_path = os.path.join(carpeta, archivo)\n",
    "                    img = Image.open(img_path)\n",
    "                    imagenes.append(np.array(img)) \n",
    "                    etiquetas.append(etiqueta)\n",
    "    \n",
    "    return imagenes, etiquetas\n",
    "\n",
    "def obtener_tamanios_por_etiqueta(imagenes, etiquetas):\n",
    "    tamanios_por_etiqueta = {}\n",
    "    for img, etiqueta in zip(imagenes, etiquetas):\n",
    "        tamanio = img.shape[:2]\n",
    "        if etiqueta not in tamanios_por_etiqueta:\n",
    "            tamanios_por_etiqueta[etiqueta] = set()\n",
    "        tamanios_por_etiqueta[etiqueta].add(tamanio)\n",
    "    return tamanios_por_etiqueta\n",
    "\n",
    "def redimensionar_imagenes(imagenes, nuevo_tamanio):\n",
    "    imagenes_redimensionadas = []\n",
    "    for img in imagenes:\n",
    "        img_pil = Image.fromarray(img)\n",
    "        img_redimensionada = img_pil.resize(nuevo_tamanio, Image.ANTIALIAS)\n",
    "        imagenes_redimensionadas.append(np.array(img_redimensionada))\n",
    "    return imagenes_redimensionadas\n",
    "\n",
    "def verificar_tamanio(imagenes):\n",
    "    tamanio_referencia = None\n",
    "    for img in imagenes:\n",
    "        if tamanio_referencia is None:\n",
    "            tamanio_referencia = img.shape[:2]\n",
    "        else:\n",
    "            if img.shape[:2] != tamanio_referencia:\n",
    "                return False\n",
    "    return True\n",
    "\n",
    "def normalizar_imagenes(imagenes):\n",
    "    imagenes_array = np.array(imagenes)\n",
    "    imagenes_normalizadas = imagenes_array / 255.0\n",
    "    media = np.mean(imagenes_normalizadas, axis=(0, 1, 2))\n",
    "    imagenes_normalizadas -= media\n",
    "    return imagenes_normalizadas\n"
   ]
  },
  {
   "cell_type": "code",
   "execution_count": 3,
   "id": "4cce330e",
   "metadata": {},
   "outputs": [
    {
     "data": {
      "text/plain": [
       "{'baseball_field': {(256, 256)},\n",
       " 'basketball_court': {(256, 256)},\n",
       " 'football_field': {(256, 256)},\n",
       " 'golf_course': {(256, 256)},\n",
       " 'tennis_court': {(256, 256)}}"
      ]
     },
     "execution_count": 3,
     "metadata": {},
     "output_type": "execute_result"
    }
   ],
   "source": [
    "# Cargar y procesar las imágenes\n",
    "ruta_dataset = 'C:/Users/nicol/Desktop/Universidad/Dataset_Utiles/PatternNet'\n",
    "imagenes, etiquetas = cargar_imagenes_con_etiquetas(ruta_dataset)\n",
    "\n",
    "# Obtener tamaños por etiqueta antes de redimensionar\n",
    "tamanios_por_etiqueta = obtener_tamanios_por_etiqueta(imagenes, etiquetas)\n",
    "\n",
    "tamanios_por_etiqueta\n"
   ]
  },
  {
   "cell_type": "code",
   "execution_count": 4,
   "id": "ea967de7",
   "metadata": {
    "scrolled": true
   },
   "outputs": [
    {
     "name": "stderr",
     "output_type": "stream",
     "text": [
      "C:\\Users\\nicol\\AppData\\Local\\Temp\\ipykernel_14632\\279961940.py:36: DeprecationWarning: ANTIALIAS is deprecated and will be removed in Pillow 10 (2023-07-01). Use Resampling.LANCZOS instead.\n",
      "  img_redimensionada = img_pil.resize(nuevo_tamanio, Image.ANTIALIAS)\n"
     ]
    },
    {
     "name": "stdout",
     "output_type": "stream",
     "text": [
      "Todas las imágenes tienen el mismo tamaño.\n"
     ]
    }
   ],
   "source": [
    "nuevo_tamanio = (256, 256)\n",
    "imagenes_redimensionadas = redimensionar_imagenes(imagenes, nuevo_tamanio)\n",
    "\n",
    "if verificar_tamanio(imagenes_redimensionadas):\n",
    "    print(\"Todas las imágenes tienen el mismo tamaño.\")\n",
    "else:\n",
    "    print(\"Las imágenes tienen diferentes tamaños.\")\n",
    "    \n",
    "imagenes_normalizadas = normalizar_imagenes(imagenes_redimensionadas)"
   ]
  },
  {
   "cell_type": "code",
   "execution_count": 5,
   "id": "971982fe",
   "metadata": {},
   "outputs": [
    {
     "name": "stdout",
     "output_type": "stream",
     "text": [
      "Distribución de clases en el conjunto de entrenamiento antes del balanceo:\n",
      "{0: 629, 1: 623, 2: 644, 3: 658, 4: 646}\n"
     ]
    }
   ],
   "source": [
    "# Codificar las etiquetas\n",
    "codificacion = {'baseball_field': 0, 'basketball_court': 1, 'football_field': 2, 'golf_course': 3, 'tennis_court': 4}\n",
    "etiquetas_codificadas = np.array([codificacion[etiqueta] for etiqueta in etiquetas])\n",
    "\n",
    "# Dividir los datos en conjuntos de entrenamiento y prueba\n",
    "X_train, X_test, y_train, y_test = train_test_split(imagenes_normalizadas, etiquetas_codificadas, test_size=0.2, random_state=42)\n",
    "\n",
    "# Aplanar las imágenes para el sobremuestreo\n",
    "n_samples, height, width, channels = X_train.shape\n",
    "X_train_2d = X_train.reshape((n_samples, -1))\n",
    "\n",
    "# Mostrar la distribución de clases antes del balanceo\n",
    "unique, counts = np.unique(y_train, return_counts=True)\n",
    "print(\"Distribución de clases en el conjunto de entrenamiento antes del balanceo:\")\n",
    "print(dict(zip(unique, counts)))\n"
   ]
  },
  {
   "cell_type": "code",
   "execution_count": 6,
   "id": "073a3d6f",
   "metadata": {},
   "outputs": [
    {
     "name": "stdout",
     "output_type": "stream",
     "text": [
      "Distribución de clases en el conjunto de entrenamiento después del balanceo:\n",
      "{0: 658, 1: 658, 2: 658, 3: 658, 4: 658}\n"
     ]
    }
   ],
   "source": [
    "# Aplicar sobremuestreo aleatorio\n",
    "ros = RandomOverSampler(random_state=42)\n",
    "X_train_res_2d, y_train_res = ros.fit_resample(X_train_2d, y_train)\n",
    "\n",
    "# Reconstruir las imágenes a su forma original\n",
    "X_train_res = X_train_res_2d.reshape((-1, height, width, channels))\n",
    "\n",
    "# Mostrar la distribución de clases después del balanceo\n",
    "unique_res, counts_res = np.unique(y_train_res, return_counts=True)\n",
    "print(\"Distribución de clases en el conjunto de entrenamiento después del balanceo:\")\n",
    "print(dict(zip(unique_res, counts_res)))\n"
   ]
  },
  {
   "cell_type": "code",
   "execution_count": 7,
   "id": "d924e712",
   "metadata": {},
   "outputs": [
    {
     "name": "stdout",
     "output_type": "stream",
     "text": [
      "Número de ejemplos de entrenamiento antes del balanceo: 3200\n",
      "Número de ejemplos de entrenamiento después del balanceo: 3290\n",
      "Número de ejemplos de prueba: 800\n"
     ]
    }
   ],
   "source": [
    "# Imprimir el tamaño de los conjuntos de entrenamiento y prueba\n",
    "print(\"Número de ejemplos de entrenamiento antes del balanceo:\", len(X_train))\n",
    "print(\"Número de ejemplos de entrenamiento después del balanceo:\", len(X_train_res))\n",
    "print(\"Número de ejemplos de prueba:\", len(X_test))"
   ]
  },
  {
   "cell_type": "markdown",
   "id": "d73bd368",
   "metadata": {},
   "source": [
    "# Entrenamiento modelo customizado"
   ]
  },
  {
   "cell_type": "code",
   "execution_count": 8,
   "id": "ba51bcfb",
   "metadata": {},
   "outputs": [
    {
     "name": "stderr",
     "output_type": "stream",
     "text": [
      "c:\\Users\\nicol\\anaconda3\\lib\\site-packages\\keras\\src\\layers\\convolutional\\base_conv.py:99: UserWarning: Do not pass an `input_shape`/`input_dim` argument to a layer. When using Sequential models, prefer using an `Input(shape)` object as the first layer in the model instead.\n",
      "  super().__init__(\n"
     ]
    },
    {
     "data": {
      "text/html": [
       "<pre style=\"white-space:pre;overflow-x:auto;line-height:normal;font-family:Menlo,'DejaVu Sans Mono',consolas,'Courier New',monospace\"><span style=\"font-weight: bold\">Model: \"sequential\"</span>\n",
       "</pre>\n"
      ],
      "text/plain": [
       "\u001b[1mModel: \"sequential\"\u001b[0m\n"
      ]
     },
     "metadata": {},
     "output_type": "display_data"
    },
    {
     "data": {
      "text/html": [
       "<pre style=\"white-space:pre;overflow-x:auto;line-height:normal;font-family:Menlo,'DejaVu Sans Mono',consolas,'Courier New',monospace\">┏━━━━━━━━━━━━━━━━━━━━━━━━━━━━━━━━━┳━━━━━━━━━━━━━━━━━━━━━━━━┳━━━━━━━━━━━━━━━┓\n",
       "┃<span style=\"font-weight: bold\"> Layer (type)                    </span>┃<span style=\"font-weight: bold\"> Output Shape           </span>┃<span style=\"font-weight: bold\">       Param # </span>┃\n",
       "┡━━━━━━━━━━━━━━━━━━━━━━━━━━━━━━━━━╇━━━━━━━━━━━━━━━━━━━━━━━━╇━━━━━━━━━━━━━━━┩\n",
       "│ conv2d (<span style=\"color: #0087ff; text-decoration-color: #0087ff\">Conv2D</span>)                 │ (<span style=\"color: #00d7ff; text-decoration-color: #00d7ff\">None</span>, <span style=\"color: #00af00; text-decoration-color: #00af00\">254</span>, <span style=\"color: #00af00; text-decoration-color: #00af00\">254</span>, <span style=\"color: #00af00; text-decoration-color: #00af00\">32</span>)   │           <span style=\"color: #00af00; text-decoration-color: #00af00\">896</span> │\n",
       "├─────────────────────────────────┼────────────────────────┼───────────────┤\n",
       "│ max_pooling2d (<span style=\"color: #0087ff; text-decoration-color: #0087ff\">MaxPooling2D</span>)    │ (<span style=\"color: #00d7ff; text-decoration-color: #00d7ff\">None</span>, <span style=\"color: #00af00; text-decoration-color: #00af00\">127</span>, <span style=\"color: #00af00; text-decoration-color: #00af00\">127</span>, <span style=\"color: #00af00; text-decoration-color: #00af00\">32</span>)   │             <span style=\"color: #00af00; text-decoration-color: #00af00\">0</span> │\n",
       "├─────────────────────────────────┼────────────────────────┼───────────────┤\n",
       "│ conv2d_1 (<span style=\"color: #0087ff; text-decoration-color: #0087ff\">Conv2D</span>)               │ (<span style=\"color: #00d7ff; text-decoration-color: #00d7ff\">None</span>, <span style=\"color: #00af00; text-decoration-color: #00af00\">125</span>, <span style=\"color: #00af00; text-decoration-color: #00af00\">125</span>, <span style=\"color: #00af00; text-decoration-color: #00af00\">64</span>)   │        <span style=\"color: #00af00; text-decoration-color: #00af00\">18,496</span> │\n",
       "├─────────────────────────────────┼────────────────────────┼───────────────┤\n",
       "│ max_pooling2d_1 (<span style=\"color: #0087ff; text-decoration-color: #0087ff\">MaxPooling2D</span>)  │ (<span style=\"color: #00d7ff; text-decoration-color: #00d7ff\">None</span>, <span style=\"color: #00af00; text-decoration-color: #00af00\">62</span>, <span style=\"color: #00af00; text-decoration-color: #00af00\">62</span>, <span style=\"color: #00af00; text-decoration-color: #00af00\">64</span>)     │             <span style=\"color: #00af00; text-decoration-color: #00af00\">0</span> │\n",
       "├─────────────────────────────────┼────────────────────────┼───────────────┤\n",
       "│ flatten (<span style=\"color: #0087ff; text-decoration-color: #0087ff\">Flatten</span>)               │ (<span style=\"color: #00d7ff; text-decoration-color: #00d7ff\">None</span>, <span style=\"color: #00af00; text-decoration-color: #00af00\">246016</span>)         │             <span style=\"color: #00af00; text-decoration-color: #00af00\">0</span> │\n",
       "├─────────────────────────────────┼────────────────────────┼───────────────┤\n",
       "│ dense (<span style=\"color: #0087ff; text-decoration-color: #0087ff\">Dense</span>)                   │ (<span style=\"color: #00d7ff; text-decoration-color: #00d7ff\">None</span>, <span style=\"color: #00af00; text-decoration-color: #00af00\">64</span>)             │    <span style=\"color: #00af00; text-decoration-color: #00af00\">15,745,088</span> │\n",
       "├─────────────────────────────────┼────────────────────────┼───────────────┤\n",
       "│ dense_1 (<span style=\"color: #0087ff; text-decoration-color: #0087ff\">Dense</span>)                 │ (<span style=\"color: #00d7ff; text-decoration-color: #00d7ff\">None</span>, <span style=\"color: #00af00; text-decoration-color: #00af00\">5</span>)              │           <span style=\"color: #00af00; text-decoration-color: #00af00\">325</span> │\n",
       "└─────────────────────────────────┴────────────────────────┴───────────────┘\n",
       "</pre>\n"
      ],
      "text/plain": [
       "┏━━━━━━━━━━━━━━━━━━━━━━━━━━━━━━━━━┳━━━━━━━━━━━━━━━━━━━━━━━━┳━━━━━━━━━━━━━━━┓\n",
       "┃\u001b[1m \u001b[0m\u001b[1mLayer (type)                   \u001b[0m\u001b[1m \u001b[0m┃\u001b[1m \u001b[0m\u001b[1mOutput Shape          \u001b[0m\u001b[1m \u001b[0m┃\u001b[1m \u001b[0m\u001b[1m      Param #\u001b[0m\u001b[1m \u001b[0m┃\n",
       "┡━━━━━━━━━━━━━━━━━━━━━━━━━━━━━━━━━╇━━━━━━━━━━━━━━━━━━━━━━━━╇━━━━━━━━━━━━━━━┩\n",
       "│ conv2d (\u001b[38;5;33mConv2D\u001b[0m)                 │ (\u001b[38;5;45mNone\u001b[0m, \u001b[38;5;34m254\u001b[0m, \u001b[38;5;34m254\u001b[0m, \u001b[38;5;34m32\u001b[0m)   │           \u001b[38;5;34m896\u001b[0m │\n",
       "├─────────────────────────────────┼────────────────────────┼───────────────┤\n",
       "│ max_pooling2d (\u001b[38;5;33mMaxPooling2D\u001b[0m)    │ (\u001b[38;5;45mNone\u001b[0m, \u001b[38;5;34m127\u001b[0m, \u001b[38;5;34m127\u001b[0m, \u001b[38;5;34m32\u001b[0m)   │             \u001b[38;5;34m0\u001b[0m │\n",
       "├─────────────────────────────────┼────────────────────────┼───────────────┤\n",
       "│ conv2d_1 (\u001b[38;5;33mConv2D\u001b[0m)               │ (\u001b[38;5;45mNone\u001b[0m, \u001b[38;5;34m125\u001b[0m, \u001b[38;5;34m125\u001b[0m, \u001b[38;5;34m64\u001b[0m)   │        \u001b[38;5;34m18,496\u001b[0m │\n",
       "├─────────────────────────────────┼────────────────────────┼───────────────┤\n",
       "│ max_pooling2d_1 (\u001b[38;5;33mMaxPooling2D\u001b[0m)  │ (\u001b[38;5;45mNone\u001b[0m, \u001b[38;5;34m62\u001b[0m, \u001b[38;5;34m62\u001b[0m, \u001b[38;5;34m64\u001b[0m)     │             \u001b[38;5;34m0\u001b[0m │\n",
       "├─────────────────────────────────┼────────────────────────┼───────────────┤\n",
       "│ flatten (\u001b[38;5;33mFlatten\u001b[0m)               │ (\u001b[38;5;45mNone\u001b[0m, \u001b[38;5;34m246016\u001b[0m)         │             \u001b[38;5;34m0\u001b[0m │\n",
       "├─────────────────────────────────┼────────────────────────┼───────────────┤\n",
       "│ dense (\u001b[38;5;33mDense\u001b[0m)                   │ (\u001b[38;5;45mNone\u001b[0m, \u001b[38;5;34m64\u001b[0m)             │    \u001b[38;5;34m15,745,088\u001b[0m │\n",
       "├─────────────────────────────────┼────────────────────────┼───────────────┤\n",
       "│ dense_1 (\u001b[38;5;33mDense\u001b[0m)                 │ (\u001b[38;5;45mNone\u001b[0m, \u001b[38;5;34m5\u001b[0m)              │           \u001b[38;5;34m325\u001b[0m │\n",
       "└─────────────────────────────────┴────────────────────────┴───────────────┘\n"
      ]
     },
     "metadata": {},
     "output_type": "display_data"
    },
    {
     "data": {
      "text/html": [
       "<pre style=\"white-space:pre;overflow-x:auto;line-height:normal;font-family:Menlo,'DejaVu Sans Mono',consolas,'Courier New',monospace\"><span style=\"font-weight: bold\"> Total params: </span><span style=\"color: #00af00; text-decoration-color: #00af00\">15,764,805</span> (60.14 MB)\n",
       "</pre>\n"
      ],
      "text/plain": [
       "\u001b[1m Total params: \u001b[0m\u001b[38;5;34m15,764,805\u001b[0m (60.14 MB)\n"
      ]
     },
     "metadata": {},
     "output_type": "display_data"
    },
    {
     "data": {
      "text/html": [
       "<pre style=\"white-space:pre;overflow-x:auto;line-height:normal;font-family:Menlo,'DejaVu Sans Mono',consolas,'Courier New',monospace\"><span style=\"font-weight: bold\"> Trainable params: </span><span style=\"color: #00af00; text-decoration-color: #00af00\">15,764,805</span> (60.14 MB)\n",
       "</pre>\n"
      ],
      "text/plain": [
       "\u001b[1m Trainable params: \u001b[0m\u001b[38;5;34m15,764,805\u001b[0m (60.14 MB)\n"
      ]
     },
     "metadata": {},
     "output_type": "display_data"
    },
    {
     "data": {
      "text/html": [
       "<pre style=\"white-space:pre;overflow-x:auto;line-height:normal;font-family:Menlo,'DejaVu Sans Mono',consolas,'Courier New',monospace\"><span style=\"font-weight: bold\"> Non-trainable params: </span><span style=\"color: #00af00; text-decoration-color: #00af00\">0</span> (0.00 B)\n",
       "</pre>\n"
      ],
      "text/plain": [
       "\u001b[1m Non-trainable params: \u001b[0m\u001b[38;5;34m0\u001b[0m (0.00 B)\n"
      ]
     },
     "metadata": {},
     "output_type": "display_data"
    },
    {
     "name": "stdout",
     "output_type": "stream",
     "text": [
      "Epoch 1/10\n",
      "\u001b[1m103/103\u001b[0m \u001b[32m━━━━━━━━━━━━━━━━━━━━\u001b[0m\u001b[37m\u001b[0m \u001b[1m91s\u001b[0m 877ms/step - accuracy: 0.6063 - loss: 1.0555 - val_accuracy: 0.8930 - val_loss: 0.2920\n",
      "Epoch 2/10\n",
      "\u001b[1m103/103\u001b[0m \u001b[32m━━━━━━━━━━━━━━━━━━━━\u001b[0m\u001b[37m\u001b[0m \u001b[1m83s\u001b[0m 804ms/step - accuracy: 0.9040 - loss: 0.2651 - val_accuracy: 0.9471 - val_loss: 0.1720\n",
      "Epoch 3/10\n",
      "\u001b[1m103/103\u001b[0m \u001b[32m━━━━━━━━━━━━━━━━━━━━\u001b[0m\u001b[37m\u001b[0m \u001b[1m84s\u001b[0m 815ms/step - accuracy: 0.9599 - loss: 0.1224 - val_accuracy: 0.9894 - val_loss: 0.0366\n",
      "Epoch 4/10\n",
      "\u001b[1m103/103\u001b[0m \u001b[32m━━━━━━━━━━━━━━━━━━━━\u001b[0m\u001b[37m\u001b[0m \u001b[1m88s\u001b[0m 851ms/step - accuracy: 0.9934 - loss: 0.0320 - val_accuracy: 0.9976 - val_loss: 0.0194\n",
      "Epoch 5/10\n",
      "\u001b[1m103/103\u001b[0m \u001b[32m━━━━━━━━━━━━━━━━━━━━\u001b[0m\u001b[37m\u001b[0m \u001b[1m88s\u001b[0m 850ms/step - accuracy: 0.9971 - loss: 0.0146 - val_accuracy: 0.9964 - val_loss: 0.0142\n",
      "Epoch 6/10\n",
      "\u001b[1m103/103\u001b[0m \u001b[32m━━━━━━━━━━━━━━━━━━━━\u001b[0m\u001b[37m\u001b[0m \u001b[1m91s\u001b[0m 881ms/step - accuracy: 0.9939 - loss: 0.0211 - val_accuracy: 1.0000 - val_loss: 0.0019\n",
      "Epoch 7/10\n",
      "\u001b[1m103/103\u001b[0m \u001b[32m━━━━━━━━━━━━━━━━━━━━\u001b[0m\u001b[37m\u001b[0m \u001b[1m86s\u001b[0m 836ms/step - accuracy: 0.9993 - loss: 0.0053 - val_accuracy: 0.9991 - val_loss: 0.0034\n",
      "Epoch 8/10\n",
      "\u001b[1m103/103\u001b[0m \u001b[32m━━━━━━━━━━━━━━━━━━━━\u001b[0m\u001b[37m\u001b[0m \u001b[1m86s\u001b[0m 840ms/step - accuracy: 0.9988 - loss: 0.0044 - val_accuracy: 1.0000 - val_loss: 5.0226e-04\n",
      "Epoch 9/10\n",
      "\u001b[1m103/103\u001b[0m \u001b[32m━━━━━━━━━━━━━━━━━━━━\u001b[0m\u001b[37m\u001b[0m \u001b[1m86s\u001b[0m 836ms/step - accuracy: 1.0000 - loss: 4.8290e-04 - val_accuracy: 1.0000 - val_loss: 2.9190e-04\n",
      "Epoch 10/10\n",
      "\u001b[1m103/103\u001b[0m \u001b[32m━━━━━━━━━━━━━━━━━━━━\u001b[0m\u001b[37m\u001b[0m \u001b[1m87s\u001b[0m 846ms/step - accuracy: 1.0000 - loss: 2.6937e-04 - val_accuracy: 1.0000 - val_loss: 2.1832e-04\n",
      "\u001b[1m25/25\u001b[0m \u001b[32m━━━━━━━━━━━━━━━━━━━━\u001b[0m\u001b[37m\u001b[0m \u001b[1m4s\u001b[0m 159ms/step\n"
     ]
    }
   ],
   "source": [
    "from keras.models import Sequential\n",
    "from keras.layers import Conv2D, MaxPooling2D, Flatten, Dense\n",
    "from keras.callbacks import EarlyStopping, LearningRateScheduler\n",
    "import numpy as np\n",
    "from sklearn.metrics import classification_report, accuracy_score, f1_score, precision_score, recall_score, confusion_matrix\n",
    "import matplotlib.pyplot as plt\n",
    "import seaborn as sns\n",
    "\n",
    "# Crear un modelo secuencial\n",
    "modelo = Sequential()\n",
    "\n",
    "# Agregar capas al modelo\n",
    "modelo.add(Conv2D(32, (3, 3), activation='relu', input_shape=(256, 256, 3)))\n",
    "modelo.add(MaxPooling2D((2, 2)))\n",
    "modelo.add(Conv2D(64, (3, 3), activation='relu'))\n",
    "modelo.add(MaxPooling2D((2, 2)))\n",
    "modelo.add(Flatten())\n",
    "modelo.add(Dense(64, activation='relu'))\n",
    "modelo.add(Dense(5, activation='softmax'))\n",
    "\n",
    "# Compilar el modelo\n",
    "modelo.compile(optimizer='adam', loss='sparse_categorical_crossentropy', metrics=['accuracy'])\n",
    "\n",
    "# Mostrar un resumen del modelo\n",
    "modelo.summary()\n",
    "\n",
    "# Función para reducir el learning rate en cada época\n",
    "def scheduler(epoch, lr):\n",
    "    if epoch < 3:\n",
    "        return lr\n",
    "    else:\n",
    "        return lr * np.exp(-0.1)\n",
    "\n",
    "# Crear el callback EarlyStopping para detener el entrenamiento si la métrica no mejora\n",
    "early_stopping = EarlyStopping(\n",
    "    monitor='val_loss',\n",
    "    patience=3,\n",
    "    verbose=1,\n",
    "    restore_best_weights=True\n",
    ")\n",
    "\n",
    "# Entrenar el modelo\n",
    "historial_entrenamiento = modelo.fit(X_train_res, y_train_res, epochs=10, validation_data=(X_train_res, y_train_res))\n",
    "\n",
    "# Predecir las etiquetas para el conjunto de prueba\n",
    "y_pred_prob = modelo.predict(X_test)\n",
    "y_pred = np.argmax(y_pred_prob, axis=1)\n",
    "\n"
   ]
  },
  {
   "cell_type": "code",
   "execution_count": 9,
   "id": "f2ed48b6",
   "metadata": {},
   "outputs": [
    {
     "name": "stdout",
     "output_type": "stream",
     "text": [
      "Precision: 0.9029843543598001\n",
      "Recall: 0.9025\n",
      "F1 Score: 0.902664896686137\n",
      "Accuracy: 0.9025\n",
      "Classification Report:\n",
      "                  precision    recall  f1-score   support\n",
      "\n",
      "  baseball_field       0.96      0.94      0.95       171\n",
      "basketball_court       0.84      0.83      0.83       177\n",
      "  football_field       0.92      0.93      0.93       156\n",
      "     golf_course       0.95      0.96      0.95       142\n",
      "    tennis_court       0.85      0.87      0.86       154\n",
      "\n",
      "        accuracy                           0.90       800\n",
      "       macro avg       0.90      0.90      0.90       800\n",
      "    weighted avg       0.90      0.90      0.90       800\n",
      "\n"
     ]
    },
    {
     "data": {
      "image/png": "[encoded data removed]",
      "text/plain": [
       "<Figure size 1000x700 with 2 Axes>"
      ]
     },
     "metadata": {},
     "output_type": "display_data"
    }
   ],
   "source": [
    "# Calcular la precisión, recall, f1 score y accuracy\n",
    "precision = precision_score(y_test, y_pred, average='weighted')\n",
    "recall = recall_score(y_test, y_pred, average='weighted')\n",
    "f1 = f1_score(y_test, y_pred, average='weighted')\n",
    "accuracy = accuracy_score(y_test, y_pred)\n",
    "\n",
    "print(f\"Precision: {precision}\")\n",
    "print(f\"Recall: {recall}\")\n",
    "print(f\"F1 Score: {f1}\")\n",
    "print(f\"Accuracy: {accuracy}\")\n",
    "\n",
    "# Obtener un informe detallado de clasificación\n",
    "print(\"Classification Report:\")\n",
    "print(classification_report(y_test, y_pred, target_names=Etiquetas_Nombres))\n",
    "\n",
    "# Matriz de confusión\n",
    "cm = confusion_matrix(y_test, y_pred)\n",
    "plt.figure(figsize=(10, 7))\n",
    "sns.heatmap(cm, annot=True, fmt='d', cmap='Blues', xticklabels=Etiquetas_Nombres, yticklabels=Etiquetas_Nombres)\n",
    "plt.xlabel('Predicted')\n",
    "plt.ylabel('True')\n",
    "plt.show()"
   ]
  },
  {
   "cell_type": "code",
   "execution_count": 10,
   "id": "4600a7f0",
   "metadata": {},
   "outputs": [
    {
     "name": "stderr",
     "output_type": "stream",
     "text": [
      "WARNING:absl:You are saving your model as an HDF5 file via `model.save()` or `keras.saving.save_model(model)`. This file format is considered legacy. We recommend using instead the native Keras format, e.g. `model.save('my_model.keras')` or `keras.saving.save_model(model, 'my_model.keras')`. \n"
     ]
    }
   ],
   "source": [
    "# Supongamos que `model` es tu modelo entrenado\n",
    "modelo.save('C:/Users/nicol/Desktop/Modelos/PatternNET/PatternNET_Custom.h5')"
   ]
  },
  {
   "cell_type": "markdown",
   "id": "19e77e6f",
   "metadata": {},
   "source": [
    "# Entrenamiento con VGG16"
   ]
  },
  {
   "cell_type": "code",
   "execution_count": 12,
   "id": "5e301321",
   "metadata": {},
   "outputs": [
    {
     "name": "stdout",
     "output_type": "stream",
     "text": [
      "Epoch 1/10\n",
      "\u001b[1m103/103\u001b[0m \u001b[32m━━━━━━━━━━━━━━━━━━━━\u001b[0m\u001b[37m\u001b[0m \u001b[1m362s\u001b[0m 3s/step - accuracy: 0.6780 - loss: 1.1831 - val_accuracy: 0.9463 - val_loss: 0.1644 - learning_rate: 0.0010\n",
      "Epoch 2/10\n",
      "\u001b[1m103/103\u001b[0m \u001b[32m━━━━━━━━━━━━━━━━━━━━\u001b[0m\u001b[37m\u001b[0m \u001b[1m325s\u001b[0m 3s/step - accuracy: 0.9248 - loss: 0.2164 - val_accuracy: 0.9488 - val_loss: 0.1360 - learning_rate: 0.0010\n",
      "Epoch 3/10\n",
      "\u001b[1m103/103\u001b[0m \u001b[32m━━━━━━━━━━━━━━━━━━━━\u001b[0m\u001b[37m\u001b[0m \u001b[1m318s\u001b[0m 3s/step - accuracy: 0.9394 - loss: 0.1552 - val_accuracy: 0.9663 - val_loss: 0.0898 - learning_rate: 0.0010\n",
      "Epoch 4/10\n",
      "\u001b[1m103/103\u001b[0m \u001b[32m━━━━━━━━━━━━━━━━━━━━\u001b[0m\u001b[37m\u001b[0m \u001b[1m319s\u001b[0m 3s/step - accuracy: 0.9532 - loss: 0.1244 - val_accuracy: 0.9650 - val_loss: 0.0891 - learning_rate: 9.0484e-04\n",
      "Epoch 5/10\n",
      "\u001b[1m103/103\u001b[0m \u001b[32m━━━━━━━━━━━━━━━━━━━━\u001b[0m\u001b[37m\u001b[0m \u001b[1m322s\u001b[0m 3s/step - accuracy: 0.9667 - loss: 0.0896 - val_accuracy: 0.9688 - val_loss: 0.0843 - learning_rate: 8.1873e-04\n",
      "Epoch 6/10\n",
      "\u001b[1m103/103\u001b[0m \u001b[32m━━━━━━━━━━━━━━━━━━━━\u001b[0m\u001b[37m\u001b[0m \u001b[1m321s\u001b[0m 3s/step - accuracy: 0.9779 - loss: 0.0624 - val_accuracy: 0.9663 - val_loss: 0.0889 - learning_rate: 7.4082e-04\n",
      "Epoch 7/10\n",
      "\u001b[1m103/103\u001b[0m \u001b[32m━━━━━━━━━━━━━━━━━━━━\u001b[0m\u001b[37m\u001b[0m \u001b[1m322s\u001b[0m 3s/step - accuracy: 0.9753 - loss: 0.0616 - val_accuracy: 0.9600 - val_loss: 0.1077 - learning_rate: 6.7032e-04\n",
      "Epoch 8/10\n",
      "\u001b[1m103/103\u001b[0m \u001b[32m━━━━━━━━━━━━━━━━━━━━\u001b[0m\u001b[37m\u001b[0m \u001b[1m323s\u001b[0m 3s/step - accuracy: 0.9756 - loss: 0.0689 - val_accuracy: 0.9638 - val_loss: 0.1059 - learning_rate: 6.0653e-04\n",
      "Epoch 8: early stopping\n",
      "Restoring model weights from the end of the best epoch: 5.\n"
     ]
    },
    {
     "data": {
      "text/plain": [
       "<keras.src.callbacks.history.History at 0x23c03c4a850>"
      ]
     },
     "execution_count": 12,
     "metadata": {},
     "output_type": "execute_result"
    }
   ],
   "source": [
    "from tensorflow.keras.applications import VGG16\n",
    "from tensorflow.keras.models import Model\n",
    "from tensorflow.keras.layers import Dense, Flatten, Dropout\n",
    "from tensorflow.keras.optimizers import Adam\n",
    "\n",
    "# Función para reducir el learning rate en cada época\n",
    "def scheduler(epoch, lr):\n",
    "    if epoch < 3:\n",
    "        return lr\n",
    "    else:\n",
    "        return lr * np.exp(-0.1)\n",
    "\n",
    "# Crear el callback EarlyStopping\n",
    "early_stopping = EarlyStopping(\n",
    "    monitor='val_loss',  # Métrica a monitorear\n",
    "    patience=3,          # Número de épocas sin mejora para detener el entrenamiento\n",
    "    verbose=1,           # Muestra mensajes en la salida estándar\n",
    "    restore_best_weights=True  # Restaurar los pesos del modelo en su mejor punto\n",
    ")\n",
    "\n",
    "# Crear el callback LearningRateScheduler\n",
    "lr_scheduler = LearningRateScheduler(scheduler)\n",
    "\n",
    "# Cargar el modelo VGG16 \n",
    "base_model = VGG16(weights='imagenet', include_top=False, input_shape=(256, 256, 3))\n",
    "\n",
    "# Congelar las capas del modelo base\n",
    "for layer in base_model.layers:\n",
    "    layer.trainable = False\n",
    "\n",
    "# Añadir nuevas capas superiores\n",
    "x = base_model.output\n",
    "x = Flatten()(x)\n",
    "x = Dense(128, activation='relu')(x)\n",
    "x = Dropout(0.5)(x)\n",
    "predictions = Dense(5, activation='softmax')(x)  \n",
    "\n",
    "#******************************************************************************************\n",
    "\n",
    "# Crear el modelo completo\n",
    "model = Model(inputs=base_model.input, outputs=predictions)\n",
    "\n",
    "# Compilar el modelo\n",
    "model.compile(optimizer=Adam(), loss='sparse_categorical_crossentropy', metrics=['accuracy'])\n",
    "\n",
    "\n",
    "# Entrenar el modelo con los callbacks\n",
    "model.fit(\n",
    "    X_train_res, \n",
    "    y_train_res, \n",
    "    epochs=10, \n",
    "    validation_data=(X_test, y_test),\n",
    "    callbacks=[early_stopping, lr_scheduler]  # Agregar los callbacks aquí\n",
    ")\n",
    "#******************************************************************************************\n",
    "\n",
    "\n"
   ]
  },
  {
   "cell_type": "code",
   "execution_count": 13,
   "id": "d73fb43d",
   "metadata": {},
   "outputs": [
    {
     "name": "stdout",
     "output_type": "stream",
     "text": [
      "\u001b[1m25/25\u001b[0m \u001b[32m━━━━━━━━━━━━━━━━━━━━\u001b[0m\u001b[37m\u001b[0m \u001b[1m62s\u001b[0m 2s/step\n",
      "Precision: 0.9690106559243474\n",
      "Recall: 0.96875\n",
      "F1 Score: 0.9687434992909527\n",
      "Accuracy: 0.96875\n",
      "Classification Report:\n",
      "                  precision    recall  f1-score   support\n",
      "\n",
      "  baseball_field       0.99      0.96      0.98       171\n",
      "basketball_court       0.95      0.94      0.95       177\n",
      "  football_field       0.94      0.99      0.97       156\n",
      "     golf_course       0.99      0.99      0.99       142\n",
      "    tennis_court       0.97      0.96      0.97       154\n",
      "\n",
      "        accuracy                           0.97       800\n",
      "       macro avg       0.97      0.97      0.97       800\n",
      "    weighted avg       0.97      0.97      0.97       800\n",
      "\n"
     ]
    },
    {
     "data": {
      "image/png": "[encoded data removed]",
      "text/plain": [
       "<Figure size 1000x700 with 2 Axes>"
      ]
     },
     "metadata": {},
     "output_type": "display_data"
    }
   ],
   "source": [
    "# Evaluar el modelo\n",
    "y_pred_prob = model.predict(X_test)\n",
    "y_pred = np.argmax(y_pred_prob, axis=1)\n",
    "\n",
    "# Calcular las métricas\n",
    "precision = precision_score(y_test, y_pred, average='weighted')\n",
    "recall = recall_score(y_test, y_pred, average='weighted')\n",
    "f1 = f1_score(y_test, y_pred, average='weighted')\n",
    "accuracy = accuracy_score(y_test, y_pred)\n",
    "\n",
    "print(f\"Precision: {precision}\")\n",
    "print(f\"Recall: {recall}\")\n",
    "print(f\"F1 Score: {f1}\")\n",
    "print(f\"Accuracy: {accuracy}\")\n",
    "\n",
    "# Obtener un informe detallado de clasificación\n",
    "print(\"Classification Report:\")\n",
    "print(classification_report(y_test, y_pred, target_names=Etiquetas_Nombres))\n",
    "\n",
    "# Matriz de confusión\n",
    "cm = confusion_matrix(y_test, y_pred)\n",
    "plt.figure(figsize=(10, 7))\n",
    "sns.heatmap(cm, annot=True, fmt='d', cmap='Blues', xticklabels=Etiquetas_Nombres, yticklabels=Etiquetas_Nombres)\n",
    "plt.xlabel('Predicted')\n",
    "plt.ylabel('True')\n",
    "plt.show()"
   ]
  },
  {
   "cell_type": "code",
   "execution_count": 14,
   "id": "3a5acab3",
   "metadata": {},
   "outputs": [
    {
     "name": "stderr",
     "output_type": "stream",
     "text": [
      "WARNING:absl:You are saving your model as an HDF5 file via `model.save()` or `keras.saving.save_model(model)`. This file format is considered legacy. We recommend using instead the native Keras format, e.g. `model.save('my_model.keras')` or `keras.saving.save_model(model, 'my_model.keras')`. \n"
     ]
    }
   ],
   "source": [
    "# Supongamos que `model` es tu modelo entrenado\n",
    "model.save('C:/Users/nicol/Desktop/Modelos/PatternNET/PatternNET_VGG16.h5')"
   ]
  },
  {
   "cell_type": "markdown",
   "id": "6a761c4f",
   "metadata": {},
   "source": [
    "# Modelo Preentrenado Xception con ImageNet"
   ]
  },
  {
   "cell_type": "code",
   "execution_count": 15,
   "id": "96bf1976",
   "metadata": {},
   "outputs": [
    {
     "name": "stdout",
     "output_type": "stream",
     "text": [
      "Epoch 1/10\n",
      "\u001b[1m103/103\u001b[0m \u001b[32m━━━━━━━━━━━━━━━━━━━━\u001b[0m\u001b[37m\u001b[0m \u001b[1m310s\u001b[0m 3s/step - accuracy: 0.7684 - loss: 3.5778 - val_accuracy: 0.9688 - val_loss: 0.0916 - learning_rate: 0.0010\n",
      "Epoch 2/10\n",
      "\u001b[1m103/103\u001b[0m \u001b[32m━━━━━━━━━━━━━━━━━━━━\u001b[0m\u001b[37m\u001b[0m \u001b[1m316s\u001b[0m 3s/step - accuracy: 0.9446 - loss: 0.1758 - val_accuracy: 0.9638 - val_loss: 0.0943 - learning_rate: 0.0010\n",
      "Epoch 3/10\n",
      "\u001b[1m103/103\u001b[0m \u001b[32m━━━━━━━━━━━━━━━━━━━━\u001b[0m\u001b[37m\u001b[0m \u001b[1m314s\u001b[0m 3s/step - accuracy: 0.9361 - loss: 0.2108 - val_accuracy: 0.9787 - val_loss: 0.0660 - learning_rate: 0.0010\n",
      "Epoch 4/10\n",
      "\u001b[1m103/103\u001b[0m \u001b[32m━━━━━━━━━━━━━━━━━━━━\u001b[0m\u001b[37m\u001b[0m \u001b[1m314s\u001b[0m 3s/step - accuracy: 0.9642 - loss: 0.1173 - val_accuracy: 0.9762 - val_loss: 0.0971 - learning_rate: 9.0484e-04\n",
      "Epoch 5/10\n",
      "\u001b[1m103/103\u001b[0m \u001b[32m━━━━━━━━━━━━━━━━━━━━\u001b[0m\u001b[37m\u001b[0m \u001b[1m313s\u001b[0m 3s/step - accuracy: 0.9649 - loss: 0.1348 - val_accuracy: 0.9725 - val_loss: 0.0702 - learning_rate: 8.1873e-04\n",
      "Epoch 6/10\n",
      "\u001b[1m103/103\u001b[0m \u001b[32m━━━━━━━━━━━━━━━━━━━━\u001b[0m\u001b[37m\u001b[0m \u001b[1m316s\u001b[0m 3s/step - accuracy: 0.9706 - loss: 0.1004 - val_accuracy: 0.9800 - val_loss: 0.0548 - learning_rate: 7.4082e-04\n",
      "Epoch 7/10\n",
      "\u001b[1m103/103\u001b[0m \u001b[32m━━━━━━━━━━━━━━━━━━━━\u001b[0m\u001b[37m\u001b[0m \u001b[1m314s\u001b[0m 3s/step - accuracy: 0.9773 - loss: 0.0812 - val_accuracy: 0.9837 - val_loss: 0.0526 - learning_rate: 6.7032e-04\n",
      "Epoch 8/10\n",
      "\u001b[1m103/103\u001b[0m \u001b[32m━━━━━━━━━━━━━━━━━━━━\u001b[0m\u001b[37m\u001b[0m \u001b[1m314s\u001b[0m 3s/step - accuracy: 0.9783 - loss: 0.0650 - val_accuracy: 0.9812 - val_loss: 0.0628 - learning_rate: 6.0653e-04\n",
      "Epoch 9/10\n",
      "\u001b[1m103/103\u001b[0m \u001b[32m━━━━━━━━━━━━━━━━━━━━\u001b[0m\u001b[37m\u001b[0m \u001b[1m324s\u001b[0m 3s/step - accuracy: 0.9798 - loss: 0.0533 - val_accuracy: 0.9850 - val_loss: 0.0617 - learning_rate: 5.4881e-04\n",
      "Epoch 10/10\n",
      "\u001b[1m103/103\u001b[0m \u001b[32m━━━━━━━━━━━━━━━━━━━━\u001b[0m\u001b[37m\u001b[0m \u001b[1m354s\u001b[0m 3s/step - accuracy: 0.9875 - loss: 0.0333 - val_accuracy: 0.9700 - val_loss: 0.1130 - learning_rate: 4.9659e-04\n",
      "Epoch 10: early stopping\n",
      "Restoring model weights from the end of the best epoch: 7.\n"
     ]
    },
    {
     "data": {
      "text/plain": [
       "<keras.src.callbacks.history.History at 0x23c0546b460>"
      ]
     },
     "execution_count": 15,
     "metadata": {},
     "output_type": "execute_result"
    }
   ],
   "source": [
    "import tensorflow as tf\n",
    "from tensorflow.keras.applications import Xception\n",
    "from tensorflow.keras.models import Model\n",
    "from tensorflow.keras.layers import Dense, GlobalAveragePooling2D\n",
    "from tensorflow.keras.layers import Dense, Flatten, Dropout\n",
    "from tensorflow.keras.optimizers import Adam\n",
    "from keras.callbacks import EarlyStopping, LearningRateScheduler\n",
    "import numpy as np\n",
    "\n",
    "# Función para reducir el learning rate en cada época\n",
    "def scheduler(epoch, lr):\n",
    "    if epoch < 3:\n",
    "        return lr\n",
    "    else:\n",
    "        return lr * np.exp(-0.1)\n",
    "\n",
    "# Crear el callback EarlyStopping\n",
    "early_stopping = EarlyStopping(\n",
    "    monitor='val_loss',  # Métrica a monitorear\n",
    "    patience=3,          # Número de épocas sin mejora para detener el entrenamiento\n",
    "    verbose=1,           # Muestra mensajes en la salida estándar\n",
    "    restore_best_weights=True  # Restaurar los pesos del modelo en su mejor punto\n",
    ")\n",
    "\n",
    "# Crear el callback LearningRateScheduler\n",
    "lr_scheduler = LearningRateScheduler(scheduler)\n",
    "\n",
    "# Cargar el modelo Xception \n",
    "base_model = Xception(weights='imagenet', include_top=False, input_shape=(256, 256, 3))\n",
    "\n",
    "# Congelar las capas del modelo base\n",
    "for layer in base_model.layers:\n",
    "    layer.trainable = False\n",
    "\n",
    "# Añadir nuevas capas superiores\n",
    "x = base_model.output\n",
    "x = Flatten()(x)\n",
    "x = Dense(128, activation='relu')(x)\n",
    "x = Dropout(0.5)(x)\n",
    "predictions = Dense(5, activation='softmax')(x)  \n",
    "\n",
    "#*********************************************************************************************\n",
    "\n",
    "# Crear el modelo completo\n",
    "model = Model(inputs=base_model.input, outputs=predictions)\n",
    "\n",
    "# Compilar el modelo\n",
    "model.compile(optimizer=Adam(), loss='sparse_categorical_crossentropy', metrics=['accuracy'])\n",
    "\n",
    "# Entrenar el modelo con los callbacks\n",
    "model.fit(\n",
    "    X_train_res, \n",
    "    y_train_res, \n",
    "    epochs=10, \n",
    "    validation_data=(X_test, y_test),\n",
    "    callbacks=[early_stopping, lr_scheduler]  # Agregar los callbacks aquí\n",
    ")"
   ]
  },
  {
   "cell_type": "code",
   "execution_count": 16,
   "id": "f6fac08a",
   "metadata": {},
   "outputs": [
    {
     "name": "stdout",
     "output_type": "stream",
     "text": [
      "\u001b[1m25/25\u001b[0m \u001b[32m━━━━━━━━━━━━━━━━━━━━\u001b[0m\u001b[37m\u001b[0m \u001b[1m66s\u001b[0m 3s/step\n",
      "Precision: 0.9838332939909457\n",
      "Recall: 0.98375\n",
      "F1 Score: 0.9837659762682155\n",
      "Accuracy: 0.98375\n",
      "Classification Report:\n",
      "                  precision    recall  f1-score   support\n",
      "\n",
      "  baseball_field       0.99      0.99      0.99       171\n",
      "basketball_court       0.97      0.98      0.97       177\n",
      "  football_field       0.99      0.99      0.99       156\n",
      "     golf_course       1.00      0.98      0.99       142\n",
      "    tennis_court       0.97      0.98      0.98       154\n",
      "\n",
      "        accuracy                           0.98       800\n",
      "       macro avg       0.98      0.98      0.98       800\n",
      "    weighted avg       0.98      0.98      0.98       800\n",
      "\n"
     ]
    },
    {
     "data": {
      "image/png": "[encoded data removed]",
      "text/plain": [
       "<Figure size 1000x700 with 2 Axes>"
      ]
     },
     "metadata": {},
     "output_type": "display_data"
    }
   ],
   "source": [
    "from sklearn.metrics import classification_report, accuracy_score, f1_score, precision_score, recall_score\n",
    "\n",
    "# Evaluar el modelo\n",
    "y_pred_prob = model.predict(X_test)\n",
    "y_pred = np.argmax(y_pred_prob, axis=1)\n",
    "\n",
    "# Calcular las métricas\n",
    "precision = precision_score(y_test, y_pred, average='weighted')\n",
    "recall = recall_score(y_test, y_pred, average='weighted')\n",
    "f1 = f1_score(y_test, y_pred, average='weighted')\n",
    "accuracy = accuracy_score(y_test, y_pred)\n",
    "\n",
    "print(f\"Precision: {precision}\")\n",
    "print(f\"Recall: {recall}\")\n",
    "print(f\"F1 Score: {f1}\")\n",
    "print(f\"Accuracy: {accuracy}\")\n",
    "\n",
    "# Obtener un informe detallado de clasificación\n",
    "print(\"Classification Report:\")\n",
    "print(classification_report(y_test, y_pred, target_names= Etiquetas_Nombres))\n",
    "\n",
    "# Matriz de confusión\n",
    "cm = confusion_matrix(y_test, y_pred)\n",
    "plt.figure(figsize=(10, 7))\n",
    "sns.heatmap(cm, annot=True, fmt='d', cmap='Blues', xticklabels=Etiquetas_Nombres, yticklabels=Etiquetas_Nombres)\n",
    "plt.xlabel('Predicted')\n",
    "plt.ylabel('True')\n",
    "plt.show()"
   ]
  },
  {
   "cell_type": "code",
   "execution_count": 17,
   "id": "e4d0a949",
   "metadata": {},
   "outputs": [
    {
     "name": "stderr",
     "output_type": "stream",
     "text": [
      "WARNING:absl:You are saving your model as an HDF5 file via `model.save()` or `keras.saving.save_model(model)`. This file format is considered legacy. We recommend using instead the native Keras format, e.g. `model.save('my_model.keras')` or `keras.saving.save_model(model, 'my_model.keras')`. \n"
     ]
    }
   ],
   "source": [
    "# Supongamos que `model` es tu modelo entrenado\n",
    "model.save('C:/Users/nicol/Desktop/Modelos/PatternNET/PatternNET_Xception.h5')"
   ]
  },
  {
   "cell_type": "markdown",
   "id": "822cc7b6",
   "metadata": {},
   "source": [
    "# Entrenamiento con MobileNet Preentrenado con Imagenet"
   ]
  },
  {
   "cell_type": "code",
   "execution_count": 2,
   "id": "63de702c",
   "metadata": {},
   "outputs": [
    {
     "name": "stderr",
     "output_type": "stream",
     "text": [
      "c:\\Users\\nicol\\anaconda3\\lib\\site-packages\\torchvision\\models\\_utils.py:208: UserWarning: The parameter 'pretrained' is deprecated since 0.13 and may be removed in the future, please use 'weights' instead.\n",
      "  warnings.warn(\n",
      "c:\\Users\\nicol\\anaconda3\\lib\\site-packages\\torchvision\\models\\_utils.py:223: UserWarning: Arguments other than a weight enum or `None` for 'weights' are deprecated since 0.13 and may be removed in the future. The current behavior is equivalent to passing `weights=MobileNet_V2_Weights.IMAGENET1K_V1`. You can also use `weights=MobileNet_V2_Weights.DEFAULT` to get the most up-to-date weights.\n",
      "  warnings.warn(msg)\n"
     ]
    },
    {
     "name": "stdout",
     "output_type": "stream",
     "text": [
      "Epoch 1, Loss: 0.1685069486390329\n",
      "Validation Loss: 0.031436129226349294\n",
      "Epoch 2, Loss: 0.08084781556525855\n",
      "Validation Loss: 0.0197270340914838\n",
      "Epoch 3, Loss: 0.06574039907478366\n",
      "Validation Loss: 0.027977504222653805\n",
      "Epoch 4, Loss: 0.020307563646251192\n",
      "Validation Loss: 0.016446867874474264\n",
      "Epoch 5, Loss: 0.013179206772248523\n",
      "Validation Loss: 0.013912959874141961\n",
      "Epoch 6, Loss: 0.010125467773143753\n",
      "Validation Loss: 0.013015255027567037\n",
      "Epoch 7, Loss: 0.005786577049186182\n",
      "Validation Loss: 0.01335576210229192\n",
      "Epoch 8, Loss: 0.005330867800597119\n",
      "Validation Loss: 0.012949928631715011\n",
      "Epoch 9, Loss: 0.004144297028723335\n",
      "Validation Loss: 0.013744009791116696\n",
      "Epoch 10, Loss: 0.0072059212741329\n",
      "Validation Loss: 0.013569072137470358\n",
      "Epoch 11, Loss: 0.006544610518776785\n",
      "Validation Loss: 0.013283493324415759\n",
      "Early stopping triggered\n"
     ]
    }
   ],
   "source": [
    "import os\n",
    "from PIL import Image\n",
    "import numpy as np\n",
    "import torch\n",
    "from torchvision import transforms\n",
    "from torch.utils.data import DataLoader, Dataset\n",
    "from sklearn.model_selection import train_test_split\n",
    "from imblearn.over_sampling import RandomOverSampler\n",
    "\n",
    "# Definir las etiquetas\n",
    "Etiquetas_Nombres = ['baseball_field', 'basketball_court', 'football_field', 'golf_course', 'tennis_court']\n",
    "\n",
    "# Función para cargar imágenes y etiquetas\n",
    "def cargar_imagenes_con_etiquetas(ruta_dataset, nuevo_tamanio=(256, 256)):\n",
    "    imagenes = []\n",
    "    etiquetas = []\n",
    "    \n",
    "    for etiqueta in os.listdir(ruta_dataset):\n",
    "        carpeta = os.path.join(ruta_dataset, etiqueta)\n",
    "        if os.path.isdir(carpeta):\n",
    "            for archivo in os.listdir(carpeta):\n",
    "                if archivo.endswith('.tif') or archivo.endswith('.png') or archivo.endswith('.jpg'):\n",
    "                    img_path = os.path.join(carpeta, archivo)\n",
    "                    img = Image.open(img_path).convert('RGB')  # Asegurarse de que todas las imágenes estén en RGB\n",
    "                    img = img.resize(nuevo_tamanio)  # Redimensionar para garantizar que todas tengan el mismo tamaño\n",
    "                    imagenes.append(np.array(img))  # Convertir a numpy array\n",
    "                    etiquetas.append(etiqueta)\n",
    "    \n",
    "    return imagenes, etiquetas\n",
    "\n",
    "# Cargar y procesar las imágenes\n",
    "ruta_dataset = 'C:/Users/nicol/Desktop/Universidad/Dataset_Utiles/PatternNET'\n",
    "imagenes, etiquetas = cargar_imagenes_con_etiquetas(ruta_dataset)\n",
    "\n",
    "# Codificar las etiquetas\n",
    "codificacion = {'baseball_field': 0, 'basketball_court': 1, 'football_field': 2, 'golf_course': 3, 'tennis_court': 4}\n",
    "etiquetas_codificadas = np.array([codificacion[etiqueta] for etiqueta in etiquetas])\n",
    "\n",
    "# Dividir los datos en conjuntos de entrenamiento y prueba\n",
    "X_train, X_test, y_train, y_test = train_test_split(imagenes, etiquetas_codificadas, test_size=0.2, random_state=42)\n",
    "\n",
    "# Convertir las imágenes a arrays de numpy\n",
    "X_train_np = np.array(X_train)\n",
    "height, width, channels = X_train_np.shape[1:]  # Obtener las dimensiones de las imágenes\n",
    "\n",
    "# Aplanar las imágenes para el sobremuestreo\n",
    "X_train_2d = X_train_np.reshape(len(X_train_np), -1)\n",
    "\n",
    "# Aplicar sobremuestreo aleatorio\n",
    "ros = RandomOverSampler(random_state=42)\n",
    "X_train_res_2d, y_train_res = ros.fit_resample(X_train_2d, y_train)\n",
    "\n",
    "# Reconstruir las imágenes a su forma original después del sobremuestreo\n",
    "X_train_res = X_train_res_2d.reshape(-1, height, width, channels)\n",
    "\n",
    "# Definir las transformaciones con normalización y redimensionamiento\n",
    "transform = transforms.Compose([\n",
    "    transforms.ToPILImage(),  # Convertir de numpy array a PIL image\n",
    "    transforms.Resize((256, 256)),  # Redimensionar la imagen\n",
    "    transforms.ToTensor(),  # Convertir de PIL a tensor\n",
    "    transforms.Normalize(mean=[0.485, 0.456, 0.406], std=[0.229, 0.224, 0.225])  # Normalización de ImageNet\n",
    "])\n",
    "\n",
    "# Custom Dataset con transformaciones\n",
    "class CustomDataset(Dataset):\n",
    "    def __init__(self, images, labels, transform=None):\n",
    "        self.images = images\n",
    "        self.labels = labels\n",
    "        self.transform = transform\n",
    "\n",
    "    def __len__(self):\n",
    "        return len(self.images)\n",
    "\n",
    "    def __getitem__(self, idx):\n",
    "        image = self.images[idx]\n",
    "        label = self.labels[idx]\n",
    "        if self.transform:\n",
    "            image = self.transform(image)  # Aplicar transformaciones\n",
    "        return image, label\n",
    "\n",
    "# Crear los datasets de entrenamiento y prueba\n",
    "train_dataset = CustomDataset(X_train_res, y_train_res.astype(int), transform=transform)\n",
    "test_dataset = CustomDataset(X_test, y_test.astype(int), transform=transform)\n",
    "\n",
    "# Crear DataLoaders\n",
    "batch_size = 32\n",
    "trainloader = DataLoader(train_dataset, batch_size=batch_size, shuffle=True)\n",
    "testloader = DataLoader(test_dataset, batch_size=batch_size, shuffle=False)\n",
    "\n",
    "# Entrenamiento y evaluación del modelo\n",
    "import torch.nn as nn\n",
    "import torch.optim as optim\n",
    "from torchvision import models\n",
    "\n",
    "# Cargar el modelo MobileNet preentrenado\n",
    "model = models.mobilenet_v2(pretrained=True)\n",
    "\n",
    "# Reemplazar la última capa del modelo para adaptarse a nuestro número de clases (5 en este caso)\n",
    "model.classifier[1] = nn.Linear(model.classifier[1].in_features, 5)\n",
    "\n",
    "# Mover el modelo a la GPU si está disponible\n",
    "device = torch.device(\"cuda\" if torch.cuda.is_available() else \"cpu\")\n",
    "model = model.to(device)\n",
    "\n",
    "# Definir la función de pérdida y el optimizador\n",
    "criterion = nn.CrossEntropyLoss()\n",
    "optimizer = optim.Adam(model.parameters(), lr=0.001)\n",
    "\n",
    "# Cambiar el scheduler a StepLR para reducir cada 3 épocas\n",
    "scheduler = optim.lr_scheduler.StepLR(optimizer, step_size=3, gamma=0.1)\n",
    "\n",
    "# Early stopping variables\n",
    "best_loss = np.Inf\n",
    "patience = 3\n",
    "epochs_no_improve = 0\n",
    "early_stop = False\n",
    "\n",
    "# Entrenamiento del modelo\n",
    "num_epochs = 15\n",
    "for epoch in range(num_epochs):\n",
    "    model.train()\n",
    "    running_loss = 0.0\n",
    "    \n",
    "    for inputs, labels in trainloader:\n",
    "        inputs, labels = inputs.to(device), labels.to(device, dtype=torch.long)\n",
    "        \n",
    "        optimizer.zero_grad()\n",
    "        outputs = model(inputs)\n",
    "        loss = criterion(outputs, labels)\n",
    "        loss.backward()\n",
    "        optimizer.step()\n",
    "        \n",
    "        running_loss += loss.item()\n",
    "    \n",
    "    epoch_loss = running_loss / len(trainloader)\n",
    "    print(f'Epoch {epoch+1}, Loss: {epoch_loss}')\n",
    "    \n",
    "    # Validación\n",
    "    model.eval()\n",
    "    val_loss = 0.0\n",
    "    with torch.no_grad():\n",
    "        for inputs, labels in testloader:\n",
    "            inputs, labels = inputs.to(device), labels.to(device, dtype=torch.long)\n",
    "            outputs = model(inputs)\n",
    "            loss = criterion(outputs, labels)\n",
    "            val_loss += loss.item()\n",
    "    \n",
    "    val_loss /= len(testloader)\n",
    "    print(f'Validation Loss: {val_loss}')\n",
    "    \n",
    "    scheduler.step()\n",
    "    \n",
    "    if val_loss < best_loss:\n",
    "        best_loss = val_loss\n",
    "        epochs_no_improve = 0\n",
    "    else:\n",
    "        epochs_no_improve += 1\n",
    "    \n",
    "    if epochs_no_improve >= patience:\n",
    "        print('Early stopping triggered')\n",
    "        early_stop = True\n",
    "        break\n",
    "\n",
    "    if early_stop:\n",
    "        break\n"
   ]
  },
  {
   "cell_type": "code",
   "execution_count": 5,
   "id": "5026770c",
   "metadata": {},
   "outputs": [
    {
     "name": "stdout",
     "output_type": "stream",
     "text": [
      "Precision: 0.9950337912087913\n",
      "Recall: 0.995\n",
      "F1 Score: 0.9950019244868035\n",
      "Accuracy: 0.995\n",
      "Classification Report:\n",
      "                  precision    recall  f1-score   support\n",
      "\n",
      "  baseball_field       1.00      1.00      1.00       171\n",
      "basketball_court       0.99      0.98      0.99       177\n",
      "  football_field       1.00      1.00      1.00       156\n",
      "     golf_course       1.00      1.00      1.00       142\n",
      "    tennis_court       0.98      0.99      0.99       154\n",
      "\n",
      "        accuracy                           0.99       800\n",
      "       macro avg       1.00      1.00      1.00       800\n",
      "    weighted avg       1.00      0.99      1.00       800\n",
      "\n"
     ]
    },
    {
     "data": {
      "image/png": "[encoded data removed]",
      "text/plain": [
       "<Figure size 1000x700 with 2 Axes>"
      ]
     },
     "metadata": {},
     "output_type": "display_data"
    }
   ],
   "source": [
    "from sklearn.metrics import classification_report, accuracy_score, f1_score, precision_score, recall_score, confusion_matrix\n",
    "import matplotlib.pyplot as plt\n",
    "import seaborn as sns\n",
    "\n",
    "# Evaluación del modelo\n",
    "model.eval()\n",
    "all_preds = []\n",
    "all_labels = []\n",
    "with torch.no_grad():\n",
    "    for inputs, labels in testloader:\n",
    "        inputs = inputs.to(device)\n",
    "        outputs = model(inputs)\n",
    "        _, preds = torch.max(outputs, 1)\n",
    "        all_preds.extend(preds.cpu().numpy())\n",
    "        all_labels.extend(labels.numpy())\n",
    "\n",
    "# Calcular las métricas\n",
    "precision = precision_score(all_labels, all_preds, average='weighted')\n",
    "recall = recall_score(all_labels, all_preds, average='weighted')\n",
    "f1 = f1_score(all_labels, all_preds, average='weighted')\n",
    "accuracy = accuracy_score(all_labels, all_preds)\n",
    "\n",
    "print(f\"Precision: {precision}\")\n",
    "print(f\"Recall: {recall}\")\n",
    "print(f\"F1 Score: {f1}\")\n",
    "print(f\"Accuracy: {accuracy}\")\n",
    "\n",
    "# Obtener un informe detallado de clasificación\n",
    "print(\"Classification Report:\")\n",
    "print(classification_report(all_labels, all_preds, target_names=Etiquetas_Nombres))\n",
    "\n",
    "# Matriz de confusión\n",
    "cm = confusion_matrix(all_labels, all_preds)\n",
    "plt.figure(figsize=(10, 7))\n",
    "sns.heatmap(cm, annot=True, fmt='d', cmap='Blues', xticklabels=Etiquetas_Nombres,\n",
    "            yticklabels=Etiquetas_Nombres)\n",
    "plt.xlabel('Predicted')\n",
    "plt.ylabel('True')\n",
    "plt.show()\n"
   ]
  },
  {
   "cell_type": "code",
   "execution_count": 6,
   "id": "1bebaeec",
   "metadata": {},
   "outputs": [],
   "source": [
    "# Guardar el modelo completo\n",
    "torch.save(model, 'C:/Users/nicol/Desktop/Modelos/PatternNET/PatternNET_mobileNET.pth')"
   ]
  },
  {
   "cell_type": "markdown",
   "id": "36c09909",
   "metadata": {},
   "source": [
    "# Entrenamiento con Resnet18 Preentrenado con Imagenet"
   ]
  },
  {
   "cell_type": "code",
   "execution_count": 7,
   "id": "f61148ef",
   "metadata": {},
   "outputs": [
    {
     "name": "stderr",
     "output_type": "stream",
     "text": [
      "c:\\Users\\nicol\\anaconda3\\lib\\site-packages\\torchvision\\models\\_utils.py:208: UserWarning: The parameter 'pretrained' is deprecated since 0.13 and may be removed in the future, please use 'weights' instead.\n",
      "  warnings.warn(\n",
      "c:\\Users\\nicol\\anaconda3\\lib\\site-packages\\torchvision\\models\\_utils.py:223: UserWarning: Arguments other than a weight enum or `None` for 'weights' are deprecated since 0.13 and may be removed in the future. The current behavior is equivalent to passing `weights=ResNet18_Weights.IMAGENET1K_V1`. You can also use `weights=ResNet18_Weights.DEFAULT` to get the most up-to-date weights.\n",
      "  warnings.warn(msg)\n"
     ]
    },
    {
     "name": "stdout",
     "output_type": "stream",
     "text": [
      "Epoch 1, Loss: 0.25895188855531726\n",
      "Validation Loss: 2.0422925996780394\n",
      "Epoch 2, Loss: 0.08103083862100267\n",
      "Validation Loss: 0.05267496511340141\n",
      "Epoch 3, Loss: 0.04796206114307335\n",
      "Validation Loss: 0.09654024592600763\n",
      "Epoch 4, Loss: 0.026693402730195232\n",
      "Validation Loss: 0.03280262139160186\n",
      "Epoch 5, Loss: 0.011684979137216323\n",
      "Validation Loss: 0.025282003772445022\n",
      "Epoch 6, Loss: 0.009397333988284656\n",
      "Validation Loss: 0.023808651580475272\n",
      "Epoch 7, Loss: 0.0046910825095058065\n",
      "Validation Loss: 0.021340398745960557\n",
      "Epoch 8, Loss: 0.004626899612366756\n",
      "Validation Loss: 0.02243730549700558\n",
      "Epoch 9, Loss: 0.004662183422518406\n",
      "Validation Loss: 0.02264210184570402\n",
      "Epoch 10, Loss: 0.004874118059835153\n",
      "Validation Loss: 0.023185077634407206\n",
      "Early stopping triggered\n"
     ]
    }
   ],
   "source": [
    "import os\n",
    "from PIL import Image\n",
    "import numpy as np\n",
    "import torch\n",
    "from torchvision import transforms\n",
    "from torch.utils.data import DataLoader, Dataset\n",
    "from sklearn.model_selection import train_test_split\n",
    "from imblearn.over_sampling import RandomOverSampler\n",
    "\n",
    "# Definir las etiquetas\n",
    "Etiquetas_Nombres = ['baseball_field', 'basketball_court', 'football_field', 'golf_course', 'tennis_court']\n",
    "\n",
    "# Función para cargar imágenes y etiquetas\n",
    "def cargar_imagenes_con_etiquetas(ruta_dataset, nuevo_tamanio=(256, 256)):\n",
    "    imagenes = []\n",
    "    etiquetas = []\n",
    "    \n",
    "    for etiqueta in os.listdir(ruta_dataset):\n",
    "        carpeta = os.path.join(ruta_dataset, etiqueta)\n",
    "        if os.path.isdir(carpeta):\n",
    "            for archivo in os.listdir(carpeta):\n",
    "                if archivo.endswith('.tif') or archivo.endswith('.png') or archivo.endswith('.jpg'):\n",
    "                    img_path = os.path.join(carpeta, archivo)\n",
    "                    img = Image.open(img_path).convert('RGB')  # Asegurarse de que todas las imágenes estén en RGB\n",
    "                    img = img.resize(nuevo_tamanio)  # Redimensionar para garantizar que todas tengan el mismo tamaño\n",
    "                    imagenes.append(np.array(img))  # Convertir a numpy array\n",
    "                    etiquetas.append(etiqueta)\n",
    "    \n",
    "    return imagenes, etiquetas\n",
    "\n",
    "# Cargar y procesar las imágenes\n",
    "ruta_dataset = 'C:/Users/nicol/Desktop/Universidad/Dataset_Utiles/PatternNET'\n",
    "imagenes, etiquetas = cargar_imagenes_con_etiquetas(ruta_dataset)\n",
    "\n",
    "# Codificar las etiquetas\n",
    "codificacion = {'baseball_field': 0, 'basketball_court': 1, 'football_field': 2, 'golf_course': 3, 'tennis_court': 4}\n",
    "etiquetas_codificadas = np.array([codificacion[etiqueta] for etiqueta in etiquetas])\n",
    "\n",
    "# Dividir los datos en conjuntos de entrenamiento y prueba\n",
    "X_train, X_test, y_train, y_test = train_test_split(imagenes, etiquetas_codificadas, test_size=0.2, random_state=42)\n",
    "\n",
    "# Convertir las imágenes a arrays de numpy\n",
    "X_train_np = np.array(X_train)\n",
    "height, width, channels = X_train_np.shape[1:]  # Obtener las dimensiones de las imágenes\n",
    "\n",
    "# Aplanar las imágenes para el sobremuestreo\n",
    "X_train_2d = X_train_np.reshape(len(X_train_np), -1)\n",
    "\n",
    "# Aplicar sobremuestreo aleatorio\n",
    "ros = RandomOverSampler(random_state=42)\n",
    "X_train_res_2d, y_train_res = ros.fit_resample(X_train_2d, y_train)\n",
    "\n",
    "# Reconstruir las imágenes a su forma original después del sobremuestreo\n",
    "X_train_res = X_train_res_2d.reshape(-1, height, width, channels)\n",
    "\n",
    "# Definir las transformaciones con normalización y redimensionamiento\n",
    "transform = transforms.Compose([\n",
    "    transforms.ToPILImage(),  # Convertir de numpy array a PIL image\n",
    "    transforms.Resize((256, 256)),  # Redimensionar la imagen\n",
    "    transforms.ToTensor(),  # Convertir de PIL a tensor\n",
    "    transforms.Normalize(mean=[0.485, 0.456, 0.406], std=[0.229, 0.224, 0.225])  # Normalización de ImageNet\n",
    "])\n",
    "\n",
    "# Custom Dataset con transformaciones\n",
    "class CustomDataset(Dataset):\n",
    "    def __init__(self, images, labels, transform=None):\n",
    "        self.images = images\n",
    "        self.labels = labels\n",
    "        self.transform = transform\n",
    "\n",
    "    def __len__(self):\n",
    "        return len(self.images)\n",
    "\n",
    "    def __getitem__(self, idx):\n",
    "        image = self.images[idx]\n",
    "        label = self.labels[idx]\n",
    "        if self.transform:\n",
    "            image = self.transform(image)  # Aplicar transformaciones\n",
    "        return image, label\n",
    "\n",
    "# Crear los datasets de entrenamiento y prueba\n",
    "train_dataset = CustomDataset(X_train_res, y_train_res.astype(int), transform=transform)\n",
    "test_dataset = CustomDataset(X_test, y_test.astype(int), transform=transform)\n",
    "\n",
    "# Crear DataLoaders\n",
    "batch_size = 32\n",
    "trainloader = DataLoader(train_dataset, batch_size=batch_size, shuffle=True)\n",
    "testloader = DataLoader(test_dataset, batch_size=batch_size, shuffle=False)\n",
    "\n",
    "# Entrenamiento y evaluación del modelo\n",
    "import torch.nn as nn\n",
    "import torch.optim as optim\n",
    "from torchvision import models\n",
    "\n",
    "# Cargar el modelo ResNet18 preentrenado\n",
    "model = models.resnet18(pretrained=True)\n",
    "\n",
    "# Reemplazar la última capa (fully connected layer) de ResNet18 para adaptarse a nuestro número de clases (5 en este caso)\n",
    "num_ftrs = model.fc.in_features\n",
    "model.fc = nn.Linear(num_ftrs, 5)\n",
    "\n",
    "# Mover el modelo a la GPU si está disponible\n",
    "device = torch.device(\"cuda\" if torch.cuda.is_available() else \"cpu\")\n",
    "model = model.to(device)\n",
    "\n",
    "# Definir la función de pérdida y el optimizador\n",
    "criterion = nn.CrossEntropyLoss()\n",
    "optimizer = optim.Adam(model.parameters(), lr=0.001)\n",
    "\n",
    "# Cambiar el scheduler a StepLR para reducir cada 3 épocas\n",
    "scheduler = optim.lr_scheduler.StepLR(optimizer, step_size=3, gamma=0.1)\n",
    "\n",
    "# Early stopping variables\n",
    "best_loss = np.Inf\n",
    "patience = 3\n",
    "epochs_no_improve = 0\n",
    "early_stop = False\n",
    "\n",
    "# Entrenamiento del modelo\n",
    "num_epochs = 15\n",
    "for epoch in range(num_epochs):\n",
    "    model.train()\n",
    "    running_loss = 0.0\n",
    "    \n",
    "    for inputs, labels in trainloader:\n",
    "        inputs, labels = inputs.to(device), labels.to(device, dtype=torch.long)\n",
    "        \n",
    "        optimizer.zero_grad()\n",
    "        outputs = model(inputs)\n",
    "        loss = criterion(outputs, labels)\n",
    "        loss.backward()\n",
    "        optimizer.step()\n",
    "        \n",
    "        running_loss += loss.item()\n",
    "    \n",
    "    epoch_loss = running_loss / len(trainloader)\n",
    "    print(f'Epoch {epoch+1}, Loss: {epoch_loss}')\n",
    "    \n",
    "    # Validación\n",
    "    model.eval()\n",
    "    val_loss = 0.0\n",
    "    with torch.no_grad():\n",
    "        for inputs, labels in testloader:\n",
    "            inputs, labels = inputs.to(device), labels.to(device, dtype=torch.long)\n",
    "            outputs = model(inputs)\n",
    "            loss = criterion(outputs, labels)\n",
    "            val_loss += loss.item()\n",
    "    \n",
    "    val_loss /= len(testloader)\n",
    "    print(f'Validation Loss: {val_loss}')\n",
    "    \n",
    "    scheduler.step()\n",
    "    \n",
    "    if val_loss < best_loss:\n",
    "        best_loss = val_loss\n",
    "        epochs_no_improve = 0\n",
    "    else:\n",
    "        epochs_no_improve += 1\n",
    "    \n",
    "    if epochs_no_improve >= patience:\n",
    "        print('Early stopping triggered')\n",
    "        early_stop = True\n",
    "        break\n",
    "\n",
    "    if early_stop:\n",
    "        break\n"
   ]
  },
  {
   "cell_type": "code",
   "execution_count": 10,
   "id": "648d5fa7",
   "metadata": {},
   "outputs": [
    {
     "name": "stdout",
     "output_type": "stream",
     "text": [
      "Precision: 0.992604788213628\n",
      "Recall: 0.9925\n",
      "F1 Score: 0.9924925573360777\n",
      "Accuracy: 0.9925\n",
      "Classification Report:\n",
      "                  precision    recall  f1-score   support\n",
      "\n",
      "  baseball_field       1.00      1.00      1.00       171\n",
      "basketball_court       0.97      0.99      0.98       177\n",
      "  football_field       1.00      1.00      1.00       156\n",
      "     golf_course       1.00      1.00      1.00       142\n",
      "    tennis_court       0.99      0.97      0.98       154\n",
      "\n",
      "        accuracy                           0.99       800\n",
      "       macro avg       0.99      0.99      0.99       800\n",
      "    weighted avg       0.99      0.99      0.99       800\n",
      "\n"
     ]
    },
    {
     "data": {
      "image/png": "[encoded data removed]",
      "text/plain": [
       "<Figure size 1000x700 with 2 Axes>"
      ]
     },
     "metadata": {},
     "output_type": "display_data"
    }
   ],
   "source": [
    "\n",
    "from sklearn.metrics import classification_report, accuracy_score, f1_score, precision_score, recall_score, confusion_matrix\n",
    "import matplotlib.pyplot as plt\n",
    "import seaborn as sns\n",
    "\n",
    "# Evaluación del modelo\n",
    "model.eval()\n",
    "all_preds = []\n",
    "all_labels = []\n",
    "with torch.no_grad():\n",
    "    for inputs, labels in testloader:\n",
    "        inputs = inputs.to(device)\n",
    "        outputs = model(inputs)\n",
    "        _, preds = torch.max(outputs, 1)\n",
    "        all_preds.extend(preds.cpu().numpy())\n",
    "        all_labels.extend(labels.numpy())\n",
    "\n",
    "# Calcular las métricas\n",
    "precision = precision_score(all_labels, all_preds, average='weighted')\n",
    "recall = recall_score(all_labels, all_preds, average='weighted')\n",
    "f1 = f1_score(all_labels, all_preds, average='weighted')\n",
    "accuracy = accuracy_score(all_labels, all_preds)\n",
    "\n",
    "print(f\"Precision: {precision}\")\n",
    "print(f\"Recall: {recall}\")\n",
    "print(f\"F1 Score: {f1}\")\n",
    "print(f\"Accuracy: {accuracy}\")\n",
    "\n",
    "# Obtener un informe detallado de clasificación\n",
    "print(\"Classification Report:\")\n",
    "print(classification_report(all_labels, all_preds, target_names=Etiquetas_Nombres))\n",
    "\n",
    "# Matriz de confusión\n",
    "cm = confusion_matrix(all_labels, all_preds)\n",
    "plt.figure(figsize=(10, 7))\n",
    "sns.heatmap(cm, annot=True, fmt='d', cmap='Blues', xticklabels=Etiquetas_Nombres,\n",
    "            yticklabels=Etiquetas_Nombres)\n",
    "plt.xlabel('Predicted')\n",
    "plt.ylabel('True')\n",
    "plt.show()\n"
   ]
  },
  {
   "cell_type": "code",
   "execution_count": 11,
   "id": "5f1e59b8",
   "metadata": {},
   "outputs": [],
   "source": [
    "# Guardar el modelo completo\n",
    "torch.save(model, 'C:/Users/nicol/Desktop/Modelos/PatternNET/PatternNET_ResNET18.pth')"
   ]
  }
 ],
 "metadata": {
  "kernelspec": {
   "display_name": "Python 3 (ipykernel)",
   "language": "python",
   "name": "python3"
  },
  "language_info": {
   "codemirror_mode": {
    "name": "ipython",
    "version": 3
   },
   "file_extension": ".py",
   "mimetype": "text/x-python",
   "name": "python",
   "nbconvert_exporter": "python",
   "pygments_lexer": "ipython3",
   "version": "3.9.13"
  }
 },
 "nbformat": 4,
 "nbformat_minor": 5
}
